{
 "cells": [
  {
   "cell_type": "code",
   "id": "initial_id",
   "metadata": {
    "collapsed": true,
    "ExecuteTime": {
     "end_time": "2024-04-08T06:47:09.099304Z",
     "start_time": "2024-04-08T06:47:08.392014Z"
    }
   },
   "source": [
    "import pandas as pd\n",
    "import matplotlib.pyplot as plt"
   ],
   "outputs": [],
   "execution_count": 1
  },
  {
   "metadata": {
    "ExecuteTime": {
     "end_time": "2024-04-08T06:47:13.227840Z",
     "start_time": "2024-04-08T06:47:13.214158Z"
    }
   },
   "cell_type": "code",
   "source": "df = pd.read_csv('TF.csv')",
   "id": "91b77fe4f8f9faee",
   "outputs": [],
   "execution_count": 2
  },
  {
   "metadata": {
    "ExecuteTime": {
     "end_time": "2024-04-08T06:47:47.463548Z",
     "start_time": "2024-04-08T06:47:47.459219Z"
    }
   },
   "cell_type": "code",
   "source": "df.columns",
   "id": "5dc7f07b24e2accf",
   "outputs": [
    {
     "data": {
      "text/plain": [
       "Index(['R', 'Z', 'Br', 'Bz', 'Ir', 'Iz', 'F'], dtype='object')"
      ]
     },
     "execution_count": 5,
     "metadata": {},
     "output_type": "execute_result"
    }
   ],
   "execution_count": 5
  }
 ],
 "metadata": {
  "kernelspec": {
   "display_name": "Python 3",
   "language": "python",
   "name": "python3"
  },
  "language_info": {
   "codemirror_mode": {
    "name": "ipython",
    "version": 2
   },
   "file_extension": ".py",
   "mimetype": "text/x-python",
   "name": "python",
   "nbconvert_exporter": "python",
   "pygments_lexer": "ipython2",
   "version": "2.7.6"
  }
 },
 "nbformat": 4,
 "nbformat_minor": 5
}
