{
 "cells": [
  {
   "cell_type": "code",
   "outputs": [],
   "source": [
    "import freegs\n",
    "from freegs import optimise as opt\n",
    "from freegs.machine import Coil, Solenoid, Wall"
   ],
   "metadata": {
    "collapsed": false,
    "ExecuteTime": {
     "end_time": "2024-04-01T08:37:57.269039Z",
     "start_time": "2024-04-01T08:37:56.665506Z"
    }
   },
   "id": "4453b8c49170d399",
   "execution_count": 1
  },
  {
   "cell_type": "code",
   "outputs": [],
   "source": [
    "PR1 = 0.50738376\n",
    "PZ1 = 0.39384023\n",
    "PR2 = 0.62576723\n",
    "PZ2 = 0.1996288"
   ],
   "metadata": {
    "collapsed": false,
    "ExecuteTime": {
     "end_time": "2024-04-01T08:37:57.273907Z",
     "start_time": "2024-04-01T08:37:57.270594Z"
    }
   },
   "id": "b72e625b8a76eed9",
   "execution_count": 2
  },
  {
   "cell_type": "code",
   "outputs": [],
   "source": [
    "poloidal_coils = [\n",
    "    (\"VERT_U\", Coil(PR1, PZ1)),\n",
    "    (\"VERT_L\", Coil(PR1, -PZ1)),\n",
    "    (\"HORIZ_U\", Coil(PR2, PZ2)),\n",
    "    (\"HORIZ_L\", Coil(PR2, -PZ2))\n",
    "]"
   ],
   "metadata": {
    "collapsed": false,
    "ExecuteTime": {
     "end_time": "2024-04-01T08:37:57.280020Z",
     "start_time": "2024-04-01T08:37:57.275385Z"
    }
   },
   "id": "1ffa20e0f8eccad0",
   "execution_count": 3
  },
  {
   "cell_type": "code",
   "outputs": [],
   "source": [
    "solenoid_height = 0.94\n",
    "inner_radius = 51e-3\n",
    "outer_radius = 60e-3\n",
    "solenoid_turns = 104"
   ],
   "metadata": {
    "collapsed": false
   },
   "id": "21e69cd1b0b45ec7",
   "execution_count": 4
  },
  {
   "cell_type": "code",
   "outputs": [],
   "source": [
    "central_solenoid = [(\"SOL\", Solenoid((inner_radius + outer_radius) / 2, -solenoid_height / 2,  solenoid_height / 2, solenoid_turns, control=False))]"
   ],
   "metadata": {
    "collapsed": false
   },
   "id": "bb4486614c51b7c8",
   "execution_count": 5
  },
  {
   "cell_type": "code",
   "outputs": [],
   "source": [
    "walls = Wall(\n",
    "    [0.160,0.1761,0.2200,0.280,0.3400,0.3839,0.40, 0.3839, 0.3400, 0.280, 0.2200, 0.1761 ],   # R\n",
    "    [0.000,0.0600,0.1039,0.120,0.1039,0.0600,0.00,-0.0600,-0.1039,-0.120,-0.1039,-0.0600]     # Z\n",
    ")"
   ],
   "metadata": {
    "collapsed": false
   },
   "id": "3dd8acb1dc097f8f",
   "execution_count": 6
  },
  {
   "cell_type": "code",
   "outputs": [],
   "source": [
    "tokamak = freegs.machine.Machine(\n",
    "    central_solenoid + poloidal_coils,\n",
    "    walls\n",
    ")"
   ],
   "metadata": {
    "collapsed": false
   },
   "id": "a8c2939b62ea1ec8",
   "execution_count": 7
  },
  {
   "cell_type": "code",
   "outputs": [],
   "source": [
    "tokamak['VERT_U'].area = tokamak['VERT_L'].area = tokamak['HORIZ_U'].area = tokamak['HORIZ_L'].area =  0.000213825*4"
   ],
   "metadata": {
    "collapsed": false,
    "ExecuteTime": {
     "end_time": "2024-04-01T08:37:57.686411Z",
     "start_time": "2024-04-01T08:37:57.682393Z"
    }
   },
   "id": "ac0fd6ff50a83d1c",
   "execution_count": 8
  },
  {
   "cell_type": "code",
   "outputs": [],
   "source": [
    "eq = freegs.Equilibrium(tokamak=tokamak,\n",
    "                        Rmin=0.01, Rmax=0.6,    # Radial domain\n",
    "                        Zmin=-0.5, Zmax=0.5,   # Height range\n",
    "                        nx=65, ny=65          # Number of grid points\n",
    "                        )"
   ],
   "metadata": {
    "collapsed": false,
    "ExecuteTime": {
     "end_time": "2024-04-01T08:37:58.707822Z",
     "start_time": "2024-04-01T08:37:58.108386Z"
    }
   },
   "id": "7760e11b2169d13f",
   "execution_count": 9
  },
  {
   "cell_type": "code",
   "outputs": [],
   "source": [
    "plasma_major_radius = 0.28\n",
    "toroidal_magnetic_field_strength_at_plasma_centre = 0.875\n",
    "vacuum_toroidal_magnetic_field = plasma_major_radius * toroidal_magnetic_field_strength_at_plasma_centre"
   ],
   "metadata": {
    "collapsed": false,
    "ExecuteTime": {
     "end_time": "2024-03-25T01:15:40.782840Z",
     "start_time": "2024-03-25T01:15:40.775754Z"
    }
   },
   "id": "3104530948c6994e",
   "execution_count": 10
  },
  {
   "cell_type": "code",
   "outputs": [],
   "source": [
    "profiles = freegs.jtor.ConstrainBetapIp(eq,\n",
    "                                        0.05, # Plasma poloidal beta\n",
    "                                        3e3, # Plasma current [Amps]\n",
    "                                        vacuum_toroidal_magnetic_field) # Vacuum f=R*Bt"
   ],
   "metadata": {
    "collapsed": false,
    "ExecuteTime": {
     "end_time": "2024-03-25T01:15:40.802973Z",
     "start_time": "2024-03-25T01:15:40.784445Z"
    }
   },
   "id": "bd1d28daed9d0c06",
   "execution_count": 11
  },
  {
   "cell_type": "code",
   "outputs": [],
   "source": [
    "xpoints = [(0.3, -0.24), (0.3, 0.24)]  # (R,Z) locations of X-points\n",
    "\n",
    "isoflux = [(0.3, -0.24, 0.3, 0.24)] # (R1,Z1, R2,Z2) pairs"
   ],
   "metadata": {
    "collapsed": false,
    "ExecuteTime": {
     "end_time": "2024-03-25T01:15:40.808791Z",
     "start_time": "2024-03-25T01:15:40.804474Z"
    }
   },
   "id": "e5b98ca7a2d89837",
   "execution_count": 12
  },
  {
   "cell_type": "code",
   "outputs": [],
   "source": [
    "constrain = freegs.control.constrain(xpoints=xpoints, isoflux=isoflux)"
   ],
   "metadata": {
    "collapsed": false,
    "ExecuteTime": {
     "end_time": "2024-03-25T01:15:40.818703Z",
     "start_time": "2024-03-25T01:15:40.810517Z"
    }
   },
   "id": "c5ae1207b91bb024",
   "execution_count": 13
  },
  {
   "cell_type": "code",
   "outputs": [],
   "source": [
    "freegs.solve(eq,\n",
    "            profiles, \n",
    "            constrain,\n",
    "            show=False,\n",
    "            check_limited=True,\n",
    "            limit_it = 0\n",
    ")"
   ],
   "metadata": {
    "collapsed": false,
    "ExecuteTime": {
     "end_time": "2024-03-25T01:15:43.108812Z",
     "start_time": "2024-03-25T01:15:40.819997Z"
    }
   },
   "id": "ced34685771d61c0",
   "execution_count": 14
  },
  {
   "cell_type": "code",
   "outputs": [
    {
     "name": "stdout",
     "output_type": "stream",
     "text": [
      "Forces on coils\n",
      "SOL (circuit)\n",
      "VERT_U : R = -0.00 kN , Z = 0.02 kN\n",
      "VERT_L : R = -0.00 kN , Z = -0.02 kN\n",
      "HORIZ_U : R = 0.03 kN , Z = -0.02 kN\n",
      "HORIZ_L : R = 0.03 kN , Z = 0.02 kN\n"
     ]
    }
   ],
   "source": [
    "eq.printForces()"
   ],
   "metadata": {
    "collapsed": false,
    "ExecuteTime": {
     "end_time": "2024-03-25T01:15:43.155405Z",
     "start_time": "2024-03-25T01:15:43.110299Z"
    }
   },
   "id": "9bfd016c74cbd69",
   "execution_count": 15
  },
  {
   "cell_type": "code",
   "outputs": [
    {
     "name": "stdout",
     "output_type": "stream",
     "text": [
      "==========================\n",
      "SOL : Solenoid(Rs=0.055499999999999994, Zsmin=-0.47, Zsmax=0.47, current=0.0, Ns=104, control=False)\n",
      "VERT_U : Coil(R=0.50738376, Z=0.39384023, current=2588.7, turns=1, control=True)\n",
      "VERT_L : Coil(R=0.50738376, Z=-0.39384023, current=2588.7, turns=1, control=True)\n",
      "HORIZ_U : Coil(R=0.62576723, Z=0.1996288, current=-2800.7, turns=1, control=True)\n",
      "HORIZ_L : Coil(R=0.62576723, Z=-0.1996288, current=-2800.7, turns=1, control=True)\n",
      "==========================\n"
     ]
    }
   ],
   "source": [
    "tokamak.printCurrents()"
   ],
   "metadata": {
    "collapsed": false,
    "ExecuteTime": {
     "end_time": "2024-03-25T01:15:43.166733Z",
     "start_time": "2024-03-25T01:15:43.157080Z"
    }
   },
   "id": "aa5db259264b811d",
   "execution_count": 16
  },
  {
   "cell_type": "code",
   "outputs": [
    {
     "ename": "SyntaxError",
     "evalue": "invalid syntax. Perhaps you forgot a comma? (2599702542.py, line 5)",
     "output_type": "error",
     "traceback": [
      "\u001B[0;36m  Cell \u001B[0;32mIn[17], line 5\u001B[0;36m\u001B[0m\n\u001B[0;31m    opt.CoilRad ius('VERT_U'),\u001B[0m\n\u001B[0m    ^\u001B[0m\n\u001B[0;31mSyntaxError\u001B[0m\u001B[0;31m:\u001B[0m invalid syntax. Perhaps you forgot a comma?\n"
     ]
    }
   ],
   "source": [
    "def optimise_tokamak(equilibrium):\n",
    "    best_eq = opt.optimise(equilibrium,  # Starting equilibrium\n",
    "                           # List of controls\n",
    "                           [\n",
    "                               opt.CoilRadius('VERT_U'),\n",
    "                               opt.CoilRadius('VERT_L'),\n",
    "                               opt.CoilRadius('HORIZ_U'),\n",
    "                               opt.CoilRadius('HORIZ_L'),\n",
    "                               opt.CoilHeight('VERT_U'),\n",
    "                               opt.CoilHeight('VERT_L'),\n",
    "                               opt.CoilHeight('HORIZ_U'),\n",
    "                               opt.CoilHeight('HORIZ_L')\n",
    "                           ],\n",
    "                           # The function to minimise\n",
    "                           opt.weighted_sum(opt.max_abs_coil_current, opt.no_wall_intersection),\n",
    "                           N=10,  # Number of solutions in each generation\n",
    "                           maxgen=20,  # How many generations\n",
    "                           monitor=opt.PlotMonitor())  # Plot the best in each generation\n",
    "    return best_eq"
   ],
   "metadata": {
    "collapsed": false,
    "ExecuteTime": {
     "end_time": "2024-03-25T01:15:43.176311Z",
     "start_time": "2024-03-25T01:15:43.168559Z"
    }
   },
   "id": "ea3c3dbc5e0ca71e",
   "execution_count": 17
  },
  {
   "cell_type": "code",
   "outputs": [],
   "source": [
    "print('Start Optimisation')\n",
    "best_eq = optimise_tokamak(eq)\n",
    "print('End Optimisation')"
   ],
   "metadata": {
    "collapsed": false
   },
   "id": "9366223f9a80a5a7",
   "execution_count": null
  },
  {
   "cell_type": "code",
   "outputs": [],
   "source": [
    "best_eq.printForces()\n",
    "best_eq.plot()"
   ],
   "metadata": {
    "collapsed": false
   },
   "id": "ea8128d8c2347a2e",
   "execution_count": null
  },
  {
   "cell_type": "code",
   "outputs": [],
   "source": [
    "best_eq.tokamak.coils"
   ],
   "metadata": {
    "collapsed": false
   },
   "id": "c9ec56711a8274f8",
   "execution_count": null
  }
 ],
 "metadata": {
  "kernelspec": {
   "display_name": "Python 3",
   "language": "python",
   "name": "python3"
  },
  "language_info": {
   "codemirror_mode": {
    "name": "ipython",
    "version": 2
   },
   "file_extension": ".py",
   "mimetype": "text/x-python",
   "name": "python",
   "nbconvert_exporter": "python",
   "pygments_lexer": "ipython2",
   "version": "2.7.6"
  }
 },
 "nbformat": 4,
 "nbformat_minor": 5
}
