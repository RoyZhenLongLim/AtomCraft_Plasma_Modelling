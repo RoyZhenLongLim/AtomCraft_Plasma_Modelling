{
 "cells": [
  {
   "cell_type": "code",
   "id": "initial_id",
   "metadata": {
    "collapsed": true,
    "ExecuteTime": {
     "end_time": "2024-07-20T07:30:31.102560Z",
     "start_time": "2024-07-20T07:30:30.504191Z"
    }
   },
   "source": [
    "import matplotlib.pyplot as plt\n",
    "from freegs.machine import Coil, Solenoid, Machine, Wall\n",
    "from freegs.jtor import ConstrainBetapIp\n",
    "from freegs.equilibrium import Equilibrium\n",
    "from freegs.control import constrain\n",
    "from freegs import solve\n",
    "from Geometry import * "
   ],
   "outputs": [],
   "execution_count": 1
  },
  {
   "metadata": {
    "ExecuteTime": {
     "end_time": "2024-07-20T07:30:31.109744Z",
     "start_time": "2024-07-20T07:30:31.104807Z"
    }
   },
   "cell_type": "code",
   "source": [
    "# Global configurations\n",
    "\n",
    "# Plasma Parameters\n",
    "Ip = 10e3 # A\n",
    "B0 = 0.10 # T\n",
    "poloidal_plasma_beta = 0.05\n",
    "xpoints = [(0.3, -0.24), (0.3, 0.24)]  # (R,Z) locations of X-points\n",
    "isoflux = [(0.3, -0.24, 0.3, 0.24)] # (R1,Z1, R2,Z2) pairs\n",
    "\n",
    "# Central Solenoid\n",
    "cs_turns = 300 # Turns\n",
    "\n",
    "# Dimension of coils\n",
    "wc = 0.05\n",
    "hc = 0.03\n",
    "\n",
    "# Position of coils in (R, Z) pairs for coils located at (R, Z) and (R, -Z)\n",
    "mirrored_PF_coils_positions = [\n",
    "    (0.22, 0.3),\n",
    "    (0.40, 0.27),\n",
    "    (0.52, 0.15)\n",
    "]\n",
    "\n",
    "# Simulation Domain\n",
    "Rmax = 0.7\n",
    "Rmin = 0.01\n",
    "Zmax = 0.6\n",
    "Zmin = -0.6\n",
    "n = 129           # Number of grid points (must always be in the form 2^m + 1)"
   ],
   "id": "7a42ee011984190b",
   "outputs": [],
   "execution_count": 2
  },
  {
   "metadata": {
    "ExecuteTime": {
     "end_time": "2024-07-20T07:30:31.341180Z",
     "start_time": "2024-07-20T07:30:31.111476Z"
    }
   },
   "cell_type": "code",
   "source": [
    "g = Geometry()\n",
    "\n",
    "for index, (r, z) in enumerate(mirrored_PF_coils_positions):\n",
    "    g.create_coil(f'PF{index}_U',r, z, wc, hc)\n",
    "    g.create_coil(f'PF{index}_L',r, -z, wc, hc)\n",
    "\n",
    "g.plot()"
   ],
   "id": "7c2ad8a1f2cb48ea",
   "outputs": [
    {
     "data": {
      "text/plain": [
       "<Figure size 640x480 with 1 Axes>"
      ],
      "image/png": "[encoded data removed]"
     },
     "metadata": {},
     "output_type": "display_data"
    }
   ],
   "execution_count": 3
  },
  {
   "metadata": {
    "ExecuteTime": {
     "end_time": "2024-07-20T07:30:33.067347Z",
     "start_time": "2024-07-20T07:30:31.342634Z"
    }
   },
   "cell_type": "code",
   "source": [
    "coils = [(name, Coil(prop['r0'], prop['z0'])) for name, prop in g.geom['coils'].items() if name != 'CS' ] \n",
    "coils += [('CS', Solenoid((g.cs_inner_radius + g.cs_outer_radius) / 2, -g.cs_height / 2, g.cs_height / 2, cs_turns))]\n",
    "\n",
    "RWall, ZWall = list(zip(*g.geom['vv'][0])) \n",
    "walls = Wall(RWall, ZWall)\n",
    "\n",
    "tokamak = Machine(coils, walls)\n",
    "for coil_name, _ in tokamak.coils:\n",
    "    if coil_name != 'CS':\n",
    "        tokamak[coil_name].area = wc * hc\n",
    "        \n",
    "eq = Equilibrium(tokamak=tokamak,\n",
    "                 Rmin=Rmin, Rmax=Rmax,  # Radial domain\n",
    "                 Zmin=Zmin, Zmax=Zmax,  # Height range\n",
    "                 nx=n, ny=n  # Number of grid points\n",
    "                 )\n",
    "\n",
    "profiles = ConstrainBetapIp(eq,\n",
    "                            poloidal_plasma_beta,  # Plasma poloidal beta\n",
    "                            Ip,  # Plasma current [Amps]\n",
    "                            g.vv_major_radius * B0)  # Vacuum f=R*Bt\n",
    "\n",
    "constraints = constrain(xpoints=xpoints, isoflux=isoflux)"
   ],
   "id": "57939383497428aa",
   "outputs": [],
   "execution_count": 4
  },
  {
   "metadata": {
    "ExecuteTime": {
     "end_time": "2024-07-20T07:32:11.177610Z",
     "start_time": "2024-07-20T07:30:33.069592Z"
    }
   },
   "cell_type": "code",
   "source": [
    "solve(eq,\n",
    "      profiles,\n",
    "      constraints,\n",
    "      check_limited=True,\n",
    "      limit_it = 0,\n",
    "      )"
   ],
   "id": "b44aff6d239bec5",
   "outputs": [
    {
     "ename": "RuntimeError",
     "evalue": "Picard iteration failed to converge (too many iterations)",
     "output_type": "error",
     "traceback": [
      "\u001B[0;31m---------------------------------------------------------------------------\u001B[0m",
      "\u001B[0;31mRuntimeError\u001B[0m                              Traceback (most recent call last)",
      "Cell \u001B[0;32mIn[5], line 1\u001B[0m\n\u001B[0;32m----> 1\u001B[0m \u001B[43msolve\u001B[49m\u001B[43m(\u001B[49m\u001B[43meq\u001B[49m\u001B[43m,\u001B[49m\n\u001B[1;32m      2\u001B[0m \u001B[43m      \u001B[49m\u001B[43mprofiles\u001B[49m\u001B[43m,\u001B[49m\n\u001B[1;32m      3\u001B[0m \u001B[43m      \u001B[49m\u001B[43mconstraints\u001B[49m\u001B[43m,\u001B[49m\n\u001B[1;32m      4\u001B[0m \u001B[43m      \u001B[49m\u001B[43mcheck_limited\u001B[49m\u001B[38;5;241;43m=\u001B[39;49m\u001B[38;5;28;43;01mTrue\u001B[39;49;00m\u001B[43m,\u001B[49m\n\u001B[1;32m      5\u001B[0m \u001B[43m      \u001B[49m\u001B[43mlimit_it\u001B[49m\u001B[43m \u001B[49m\u001B[38;5;241;43m=\u001B[39;49m\u001B[43m \u001B[49m\u001B[38;5;241;43m0\u001B[39;49m\u001B[43m,\u001B[49m\n\u001B[1;32m      6\u001B[0m \u001B[43m      \u001B[49m\u001B[43m)\u001B[49m\n",
      "File \u001B[0;32m~/.local/lib/python3.10/site-packages/freegs/picard.py:218\u001B[0m, in \u001B[0;36msolve\u001B[0;34m(eq, profiles, constrain, rtol, atol, blend, show, axis, pause, psi_bndry, maxits, convergenceInfo, check_limited, wait_for_limited, limit_it)\u001B[0m\n\u001B[1;32m    216\u001B[0m     iteration \u001B[38;5;241m+\u001B[39m\u001B[38;5;241m=\u001B[39m \u001B[38;5;241m1\u001B[39m\n\u001B[1;32m    217\u001B[0m     \u001B[38;5;28;01mif\u001B[39;00m maxits \u001B[38;5;129;01mand\u001B[39;00m iteration \u001B[38;5;241m>\u001B[39m maxits:\n\u001B[0;32m--> 218\u001B[0m         \u001B[38;5;28;01mraise\u001B[39;00m \u001B[38;5;167;01mRuntimeError\u001B[39;00m(\n\u001B[1;32m    219\u001B[0m             \u001B[38;5;124m\"\u001B[39m\u001B[38;5;124mPicard iteration failed to converge (too many iterations)\u001B[39m\u001B[38;5;124m\"\u001B[39m\n\u001B[1;32m    220\u001B[0m         )\n\u001B[1;32m    221\u001B[0m \u001B[38;5;28;01mif\u001B[39;00m convergenceInfo:\n\u001B[1;32m    222\u001B[0m     \u001B[38;5;28;01mreturn\u001B[39;00m array(psi_maxchange_iterations), array(psi_relchange_iterations)\n",
      "\u001B[0;31mRuntimeError\u001B[0m: Picard iteration failed to converge (too many iterations)"
     ]
    }
   ],
   "execution_count": 5
  },
  {
   "metadata": {},
   "cell_type": "code",
   "source": [
    "# Print Results\n",
    "print(\n",
    "    'Plasma Properties:\\n'\n",
    "    f'\\tPlasma Current       {eq.plasmaCurrent():8.2f}\\n'\n",
    "    f'\\tPlasma Elongation    {eq.elongation():8.2f}\\n'\n",
    "    f'\\tPlasma Triangularly  {eq.triangularity():8.2f}\\n'\n",
    "    f'\\tPlasma Volume        {eq.plasmaVolume():8.2f}\\n'\n",
    ")\n",
    "\n",
    "print('Current Profile')\n",
    "for name, coil in eq.tokamak.coils:\n",
    "    print(f'\\t {name}: Current: {coil.current:8.2f} A')\n",
    "\n",
    "print('')\n",
    "print('Force on Coils')\n",
    "for label, force in eq.getForces().items():\n",
    "    if label != 'CS':\n",
    "        print(\n",
    "            f'Force on {label}:\\n'\n",
    "            f'\\tF_R =   {force[0]:6.2f} N\\n'\n",
    "            f'\\tF_Z =   {force[1]:6.2f} N'\n",
    "        )"
   ],
   "id": "2dd046f72b0254f6",
   "outputs": [],
   "execution_count": null
  }
 ],
 "metadata": {
  "kernelspec": {
   "display_name": "Python 3",
   "language": "python",
   "name": "python3"
  },
  "language_info": {
   "codemirror_mode": {
    "name": "ipython",
    "version": 2
   },
   "file_extension": ".py",
   "mimetype": "text/x-python",
   "name": "python",
   "nbconvert_exporter": "python",
   "pygments_lexer": "ipython2",
   "version": "2.7.6"
  }
 },
 "nbformat": 4,
 "nbformat_minor": 5
}
