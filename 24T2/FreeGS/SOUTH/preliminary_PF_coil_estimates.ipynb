{
 "cells": [
  {
   "cell_type": "code",
   "id": "initial_id",
   "metadata": {
    "collapsed": true,
    "jupyter": {
     "is_executing": true
    }
   },
   "source": [
    "import matplotlib.pyplot as plt\n",
    "from freegs.machine import Coil, Solenoid, Machine\n",
    "from freegs.jtor import ConstrainBetapIp\n",
    "from freegs.equilibrium import Equilibrium\n",
    "from freegs.control import constrain\n",
    "from freegs import solve\n",
    "from SOUTH_param import * "
   ],
   "outputs": [],
   "execution_count": null
  },
  {
   "metadata": {
    "jupyter": {
     "is_executing": true
    }
   },
   "cell_type": "code",
   "source": [
    "# Parameters subject to change \n",
    "PR1 = 0.50\n",
    "PZ1 = 0.40\n",
    "PR2 = 0.60\n",
    "PZ2 = 0.25\n",
    "PR3 = 0.65\n",
    "PZ3 = 0.10\n",
    "\n",
    "coils_positioning = [\n",
    "    (PR1, PZ1),\n",
    "    (PR2, PZ2),\n",
    "    (PR3, PZ3)\n",
    "]\n",
    "\n",
    "Ip = 10e3  # Plasma current [Amps]\n",
    "toroidal_magnetic_field_strength_at_plasma_centre = 0.125 # B_0\n",
    "\n",
    "R1 = 0.1\n",
    "R2 = 0.64"
   ],
   "id": "8c7a1aac600501f7",
   "outputs": [],
   "execution_count": null
  },
  {
   "metadata": {
    "jupyter": {
     "is_executing": true
    }
   },
   "cell_type": "code",
   "source": [
    "plt.plot(*PrincetonDee(R1, R2), label='Rough position of where TF coils end')\n",
    "plt.plot(RWall, ZWall, label='Tokamak Wall')\n",
    "\n",
    "for index, (r, z) in enumerate(coils_positioning):\n",
    "    plt.plot([r, r], [z, -z], 'x', label='Coil {}'.format(index))\n",
    "plt.legend()"
   ],
   "id": "40be51a3281fca52",
   "outputs": [],
   "execution_count": null
  },
  {
   "metadata": {
    "jupyter": {
     "is_executing": true
    }
   },
   "cell_type": "code",
   "source": [
    "# Create coils\n",
    "central_solenoid = [(\"SOL\", Solenoid((inner_radius + outer_radius) / 2, -solenoid_height / 2,  solenoid_height / 2, solenoid_turns, control=False))]\n",
    "\n",
    "poloidal_coils = [\n",
    "    (\"VF1_U\", Coil(PR1, PZ1)),\n",
    "    (\"VF1_L\", Coil(PR1, -PZ1)),\n",
    "    (\"VF2_U\", Coil(PR2, PZ2)),\n",
    "    (\"VF2_L\", Coil(PR2, -PZ2)),\n",
    "    (\"SH1_U\", Coil(PR3, PZ3)),\n",
    "    (\"SH1_L\", Coil(PR3, -PZ3))\n",
    "]"
   ],
   "id": "aec1498622010574",
   "outputs": [],
   "execution_count": null
  },
  {
   "metadata": {
    "jupyter": {
     "is_executing": true
    }
   },
   "cell_type": "code",
   "source": [
    "# Create tokamak\n",
    "tokamak = Machine(\n",
    "    central_solenoid + poloidal_coils,\n",
    "    walls\n",
    ")\n",
    "tokamak['VF1_U'].area = tokamak['VF1_L'].area = tokamak['VF2_U'].area = tokamak['VF2_L'].area = tokamak['SH1_U'].area = tokamak['SH1_L'].area = 4 * 2.1e-4"
   ],
   "id": "777cd8840aec1cef",
   "outputs": [],
   "execution_count": null
  },
  {
   "metadata": {
    "jupyter": {
     "is_executing": true
    }
   },
   "cell_type": "code",
   "source": [
    "# Define simulation granularity\n",
    "eq = Equilibrium(tokamak=tokamak,\n",
    "                       Rmin=0.01, Rmax=0.7,    # Radial domain\n",
    "                       Zmin=-0.6, Zmax=0.6,    # Height range\n",
    "                       nx=129, ny=129          # Number of grid points\n",
    "                       )"
   ],
   "id": "4dd093d85c303e9",
   "outputs": [],
   "execution_count": null
  },
  {
   "metadata": {
    "jupyter": {
     "is_executing": true
    }
   },
   "cell_type": "code",
   "source": [
    "# Define plasma properties constraints\n",
    "vacuum_toroidal_magnetic_field = plasma_major_radius * toroidal_magnetic_field_strength_at_plasma_centre\n",
    "profiles = ConstrainBetapIp(eq,\n",
    "                            0.05,   # Plasma poloidal beta\n",
    "                            Ip,     # Plasma current [Amps]\n",
    "                            vacuum_toroidal_magnetic_field)  # Vacuum f=R*Bt"
   ],
   "id": "17b15bd37d164e31",
   "outputs": [],
   "execution_count": null
  },
  {
   "metadata": {
    "jupyter": {
     "is_executing": true
    }
   },
   "cell_type": "code",
   "source": [
    "# Define x-points and iso-flux\n",
    "xpoints = [(0.3, -0.24), (0.3, 0.24)]  # (R,Z) locations of X-points\n",
    "isoflux = [(0.3, -0.24, 0.3, 0.24)] # (R1,Z1, R2,Z2) pairs\n",
    "\n",
    "constraints = constrain(xpoints=xpoints, isoflux=isoflux)"
   ],
   "id": "a6439d44785be5c0",
   "outputs": [],
   "execution_count": null
  },
  {
   "metadata": {
    "jupyter": {
     "is_executing": true
    }
   },
   "cell_type": "code",
   "source": [
    "solve(eq,\n",
    "             profiles,\n",
    "             constraints,\n",
    "             check_limited=True,\n",
    "             limit_it = 0\n",
    "             )\n",
    "\n",
    "print(\n",
    "    tokamak.getForces(),\n",
    "    tokamak.printCurrents()\n",
    ")"
   ],
   "id": "9bfb85a79b3ab7ee",
   "outputs": [],
   "execution_count": null
  }
 ],
 "metadata": {
  "kernelspec": {
   "display_name": "Python 3",
   "language": "python",
   "name": "python3"
  },
  "language_info": {
   "codemirror_mode": {
    "name": "ipython",
    "version": 2
   },
   "file_extension": ".py",
   "mimetype": "text/x-python",
   "name": "python",
   "nbconvert_exporter": "python",
   "pygments_lexer": "ipython2",
   "version": "2.7.6"
  }
 },
 "nbformat": 4,
 "nbformat_minor": 5
}
