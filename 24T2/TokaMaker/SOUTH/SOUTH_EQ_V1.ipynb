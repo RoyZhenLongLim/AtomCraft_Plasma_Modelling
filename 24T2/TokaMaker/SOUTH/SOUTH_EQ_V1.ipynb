{
 "cells": [
  {
   "cell_type": "code",
   "id": "initial_id",
   "metadata": {
    "ExecuteTime": {
     "end_time": "2024-07-06T02:25:58.952037Z",
     "start_time": "2024-07-06T02:25:58.489939Z"
    }
   },
   "source": [
    "import sys\n",
    "import json\n",
    "import numpy as np\n",
    "import matplotlib.pyplot as plt\n",
    "\n",
    "sys.path.append('/home/roy/AtomCraft/install_release/python')\n",
    "from OpenFUSIONToolkit.TokaMaker import TokaMaker\n",
    "from OpenFUSIONToolkit.TokaMaker.meshing import load_gs_mesh\n",
    "from OpenFUSIONToolkit.TokaMaker.util import create_power_flux_fun\n",
    "from OpenFUSIONToolkit.TokaMaker.meshing import gs_Domain, save_gs_mesh"
   ],
   "outputs": [],
   "execution_count": 1
  },
  {
   "cell_type": "code",
   "id": "e075450981324cbd",
   "metadata": {
    "ExecuteTime": {
     "end_time": "2024-07-06T02:25:58.957814Z",
     "start_time": "2024-07-06T02:25:58.953942Z"
    }
   },
   "source": [
    "plt.rcParams['figure.figsize']=(6,6)\n",
    "plt.rcParams['font.weight']='bold'\n",
    "plt.rcParams['axes.labelweight']='bold'\n",
    "plt.rcParams['lines.linewidth']=2\n",
    "plt.rcParams['lines.markeredgewidth']=2"
   ],
   "outputs": [],
   "execution_count": 2
  },
  {
   "metadata": {},
   "cell_type": "markdown",
   "source": [
    "# Goal\n",
    "Time-dependent PF coils\n",
    "- Create equilibria for various points during the discharge\n",
    "- Figure out how to link the output from DYON <- look into reverse equilibria creating (what parameters we need etc)\n",
    "- Diagnostics: Looking into Rogowski Sensors + EFIT + EFIT++ (what do we need to measure)"
   ],
   "id": "b426dd7f7654319d"
  },
  {
   "cell_type": "markdown",
   "id": "6303a8c4e43dd76a",
   "metadata": {},
   "source": [
    "# Mesh Generation"
   ]
  },
  {
   "cell_type": "code",
   "id": "de31dc70b3e715a7",
   "metadata": {
    "ExecuteTime": {
     "end_time": "2024-07-06T02:25:58.976843Z",
     "start_time": "2024-07-06T02:25:58.959627Z"
    }
   },
   "source": [
    "plasma_dx = 0.01\n",
    "coil_dx = 0.01\n",
    "vv_dx = 0.01\n",
    "vac_dx = 0.06"
   ],
   "outputs": [],
   "execution_count": 3
  },
  {
   "cell_type": "code",
   "id": "f7b422dd613fa697",
   "metadata": {
    "ExecuteTime": {
     "end_time": "2024-07-06T02:25:58.982984Z",
     "start_time": "2024-07-06T02:25:58.978579Z"
    }
   },
   "source": [
    "geom = {\n",
    "    \"limiter\": [],\n",
    "    \"vv\": {\n",
    "        \"eta\": 6.9e-7\n",
    "    },\n",
    "    \"coils\": []\n",
    "}"
   ],
   "outputs": [],
   "execution_count": 4
  },
  {
   "metadata": {
    "ExecuteTime": {
     "end_time": "2024-07-06T02:25:58.989444Z",
     "start_time": "2024-07-06T02:25:58.984688Z"
    }
   },
   "cell_type": "code",
   "source": [
    "def generate_spherical_shell(R0, a, n):\n",
    "    thetas = np.linspace(0, 2*np.pi, n, endpoint=False)\n",
    "    Rwalls = R0 + a * np.cos(thetas)\n",
    "    Zwalls = a * np.sin(thetas)\n",
    "    return list(zip(Rwalls, Zwalls))"
   ],
   "id": "8f7fb2600032ce3d",
   "outputs": [],
   "execution_count": 5
  },
  {
   "cell_type": "code",
   "id": "70bc0e2abd77535",
   "metadata": {
    "ExecuteTime": {
     "end_time": "2024-07-06T02:26:12.370155Z",
     "start_time": "2024-07-06T02:26:12.364667Z"
    }
   },
   "source": [
    "# * Create Limiter and VV\n",
    "R0 = 0.3048      # Middle of the circle\n",
    "rwall = 0.16195  # Radius of the circular wall\n",
    "npoints = 50     # Number of points on the wall\n",
    "\n",
    "    \n",
    "geom[\"limiter\"] = generate_spherical_shell(R0, rwall, npoints)\n",
    "geom[\"vv\"][\"vv_inner_cntr\"] = generate_spherical_shell(R0, rwall + 0.005, npoints)\n",
    "geom[\"vv\"][\"vv_outer_cntr\"] = generate_spherical_shell(R0, rwall + 0.010, npoints)\n",
    "geom[\"vv\"][\"shell_cntr\"] = generate_spherical_shell(R0, rwall + 0.015, npoints)"
   ],
   "outputs": [],
   "execution_count": 10
  },
  {
   "cell_type": "code",
   "id": "85f6913fa945e20e",
   "metadata": {
    "ExecuteTime": {
     "end_time": "2024-07-06T02:26:13.022180Z",
     "start_time": "2024-07-06T02:26:13.016876Z"
    }
   },
   "source": [
    "# Create Coils\n",
    "geom[\"coils\"] = {\n",
    "    \"VF1_U\": {\n",
    "        \"rc\": 0.20,\n",
    "        \"zc\": 0.35,\n",
    "        \"w\": 0.01905,\n",
    "        \"h\": 0.060325,\n",
    "        \"nturns\": 1\n",
    "    },\n",
    "    \"VF1_L\": {\n",
    "        \"rc\": 0.20,\n",
    "        \"zc\": -0.35,\n",
    "        \"w\": 0.01905,\n",
    "        \"h\": 0.060325,\n",
    "        \"nturns\": 1\n",
    "    },\n",
    "    \"OH1_U\": {\n",
    "        \"rc\": 0.30,\n",
    "        \"zc\": 0.275,\n",
    "        \"w\": 0.01905,\n",
    "        \"h\": 0.060325,\n",
    "        \"nturns\": 1\n",
    "    },\n",
    "    \"OH1_L\": {\n",
    "        \"rc\": 0.275,\n",
    "        \"zc\": -0.275,\n",
    "        \"w\": 0.01905,\n",
    "        \"h\": 0.060325,\n",
    "        \"nturns\": 1\n",
    "    },\n",
    "    \"SH1_U\": {\n",
    "        \"rc\": 0.50,\n",
    "        \"zc\": 0.10,\n",
    "        \"w\": 0.01905,\n",
    "        \"h\": 0.060325,\n",
    "        \"nturns\": 1\n",
    "    },\n",
    "    \"SH1_L\": {\n",
    "        \"rc\": 0.50,\n",
    "        \"zc\": -0.10,\n",
    "        \"w\": 0.01905,\n",
    "        \"h\": 0.060325,\n",
    "        \"nturns\": 1\n",
    "    },\n",
    "}"
   ],
   "outputs": [],
   "execution_count": 11
  },
  {
   "cell_type": "code",
   "id": "970e0c6f5bb4f4a6",
   "metadata": {
    "ExecuteTime": {
     "end_time": "2024-07-06T02:26:13.499661Z",
     "start_time": "2024-07-06T02:26:13.491697Z"
    }
   },
   "source": [
    "# Create a G-S domain\n",
    "gs_mesh = gs_Domain()\n",
    "\n",
    "# Define region information for mesh\n",
    "gs_mesh.define_region('air',vac_dx,'boundary')        # Define the bounding region\n",
    "gs_mesh.define_region('plasma',plasma_dx,'plasma')    # Define the plasma region and resolution\n",
    "gs_mesh.define_region('vacuum',vac_dx,'vacuum')       # Define the vacuum inside the VV\n",
    "gs_mesh.define_region('shell',vv_dx,'conductor',eta=geom['vv']['eta'])  # Define the shells\n",
    "gs_mesh.define_region('vv',vv_dx,'conductor',eta=geom['vv']['eta'])      # Define the VV\n",
    "\n",
    "# Define each of the PF coils\n",
    "for key, coil in geom['coils'].items():\n",
    "    gs_mesh.define_region(key,coil_dx,'coil',nTurns=coil['nturns'],coil_set=key[:2])"
   ],
   "outputs": [],
   "execution_count": 12
  },
  {
   "cell_type": "code",
   "id": "c758e26151500b2b",
   "metadata": {
    "ExecuteTime": {
     "end_time": "2024-07-06T02:26:14.047212Z",
     "start_time": "2024-07-06T02:26:14.034943Z"
    }
   },
   "source": [
    "# Define geometry\n",
    "gs_mesh.add_polygon(geom['limiter'][:-1], 'plasma', parent_name='vacuum')\n",
    "gs_mesh.add_polygon(geom['vv']['shell_cntr'], 'shell', parent_name='vacuum')\n",
    "gs_mesh.add_annulus(geom['vv']['vv_inner_cntr'], 'vacuum', geom['vv']['vv_outer_cntr'], 'vv', parent_name='air')\n",
    "\n",
    "# Define the shape of the PF coils\n",
    "for key, coil in geom['coils'].items():\n",
    "    gs_mesh.add_rectangle(coil['rc'], coil['zc'], coil['w'], coil['h'], key, parent_name='air')\n",
    "    "
   ],
   "outputs": [],
   "execution_count": 13
  },
  {
   "cell_type": "code",
   "id": "1d6ef46a836d9106",
   "metadata": {
    "ExecuteTime": {
     "end_time": "2024-07-06T02:26:14.924619Z",
     "start_time": "2024-07-06T02:26:14.535462Z"
    }
   },
   "source": [
    "fig, ax = plt.subplots(1, 1, figsize=(4, 4), constrained_layout=True)\n",
    "gs_mesh.plot_topology(fig, ax)"
   ],
   "outputs": [
    {
     "data": {
      "text/plain": [
       "<Figure size 400x400 with 1 Axes>"
      ],
      "image/png": "[encoded data removed]"
     },
     "metadata": {},
     "output_type": "display_data"
    }
   ],
   "execution_count": 14
  },
  {
   "cell_type": "code",
   "id": "167d0946dac33b71",
   "metadata": {
    "ExecuteTime": {
     "end_time": "2024-07-06T02:26:18.386199Z",
     "start_time": "2024-07-06T02:26:15.150967Z"
    }
   },
   "source": [
    "mesh_pts, mesh_lc, mesh_reg = gs_mesh.build_mesh()\n",
    "coil_dict = gs_mesh.get_coils()\n",
    "cond_dict = gs_mesh.get_conductors()"
   ],
   "outputs": [
    {
     "name": "stdout",
     "output_type": "stream",
     "text": [
      "Assembling regions:\n",
      "  # of unique points    = 557\n",
      "  # of unique segments  = 32\n",
      "Generating mesh:\n",
      "  # of points  = 2062\n",
      "  # of cells   = 4072\n",
      "  # of regions = 11\n"
     ]
    }
   ],
   "execution_count": 15
  },
  {
   "metadata": {
    "ExecuteTime": {
     "end_time": "2024-07-06T02:26:19.534146Z",
     "start_time": "2024-07-06T02:26:18.388932Z"
    }
   },
   "cell_type": "code",
   "source": [
    "import matplotlib.pyplot as plt\n",
    "fig, ax = plt.subplots(2,2,figsize=(10,8),constrained_layout=True)\n",
    "gs_mesh.plot_mesh(fig, ax)"
   ],
   "id": "926ac1a7b429a1f3",
   "outputs": [
    {
     "data": {
      "text/plain": [
       "<Figure size 1000x800 with 4 Axes>"
      ],
      "image/png": "[encoded data removed]"
     },
     "metadata": {},
     "output_type": "display_data"
    }
   ],
   "execution_count": 16
  },
  {
   "cell_type": "code",
   "id": "7d11e1e1443c8f17",
   "metadata": {
    "ExecuteTime": {
     "end_time": "2024-07-06T02:26:19.542218Z",
     "start_time": "2024-07-06T02:26:19.535989Z"
    }
   },
   "source": [
    "save_gs_mesh(mesh_pts,mesh_lc,mesh_reg,coil_dict,cond_dict,'mesh.h5')"
   ],
   "outputs": [],
   "execution_count": 17
  },
  {
   "cell_type": "markdown",
   "id": "7600fa8c83e60812",
   "metadata": {},
   "source": [
    "# Compute Equilibria"
   ]
  },
  {
   "cell_type": "code",
   "id": "4ee251eacc1cbcf6",
   "metadata": {
    "ExecuteTime": {
     "end_time": "2024-07-06T02:26:19.551683Z",
     "start_time": "2024-07-06T02:26:19.543947Z"
    }
   },
   "source": [
    "mygs = TokaMaker()"
   ],
   "outputs": [
    {
     "name": "stdout",
     "output_type": "stream",
     "text": [
      "#----------------------------------------------\n",
      "Open FUSION Toolkit Initialized\n",
      "Development branch:   main\n",
      "Revision id:          aba6d8f\n",
      "Parallelization Info:\n",
      "  Not compiled with MPI\n",
      "  # of OpenMP threads =    2\n",
      "Fortran input file    = oftpyin                                                                         \n",
      "XML input file        = none                                                                            \n",
      "Integer Precisions    =    4   8\n",
      "Float Precisions      =    4   8  10\n",
      "Complex Precisions    =    4   8\n",
      "LA backend            = native\n",
      "#----------------------------------------------\n",
      "\n"
     ]
    }
   ],
   "execution_count": 18
  },
  {
   "cell_type": "code",
   "id": "75b875c855daf2d0",
   "metadata": {
    "ExecuteTime": {
     "end_time": "2024-07-06T02:26:19.934923Z",
     "start_time": "2024-07-06T02:26:19.553421Z"
    }
   },
   "source": [
    "mesh_pts,mesh_lc,mesh_reg,coil_dict,cond_dict = load_gs_mesh('mesh.h5')\n",
    "mygs.setup_mesh(mesh_pts, mesh_lc, mesh_reg)\n",
    "mygs.setup_regions(cond_dict=cond_dict,coil_dict=coil_dict)\n",
    "mygs.setup(order = 2, F0=0.125*0.28) # F0 = B0 * R0"
   ],
   "outputs": [
    {
     "name": "stdout",
     "output_type": "stream",
     "text": [
      "\n",
      "**** Generating surface grid level  1\n",
      "  Generating boundary domain linkage\n",
      "  Mesh statistics:\n",
      "    Area         =  5.579E-01\n",
      "    # of points  =    2062\n",
      "    # of edges   =    6133\n",
      "    # of cells   =    4072\n",
      "    # of boundary points =      50\n",
      "    # of boundary edges  =      50\n",
      "    # of boundary cells  =      50\n",
      "  Resolution statistics:\n",
      "    hmin =  4.990E-03\n",
      "    hrms =  1.915E-02\n",
      "    hmax =  9.256E-02\n",
      "  Surface grounded at vertex     525\n",
      "\n",
      "\n",
      "**** Creating Lagrange FE space\n",
      "  Order  =    2\n",
      "  Minlev =   -1\n",
      "\n",
      " Computing flux BC matrix \n",
      " Inverting real matrix\n",
      "   Time =    6.1655900000000003E-004\n"
     ]
    }
   ],
   "execution_count": 19
  },
  {
   "cell_type": "code",
   "id": "d74970dfe4d62deb",
   "metadata": {
    "ExecuteTime": {
     "end_time": "2024-07-06T02:26:19.940877Z",
     "start_time": "2024-07-06T02:26:19.936840Z"
    }
   },
   "source": [
    "# Need to check the bounds for this\n",
    "# coil_bounds = np.zeros((mygs.ncoils+1,2), dtype=np.float64)\n",
    "# for name, coil in mygs.coil_sets.items():\n",
    "#     if name.startswith('OH'):\n",
    "#         bounds = [-2.00E+04,2.00E+04]\n",
    "#     elif name.startswith('VF'):\n",
    "#         bounds = [-1.50E+04,4.20E+04]\n",
    "#     elif name.startswith('SH'):\n",
    "#         bounds = [-1.50E+04,1.50E+04]\n",
    "#     coil_bounds[coil['id'],:] = np.array(bounds)\n",
    "# \n",
    "# mygs.set_coil_bounds(coil_bounds)"
   ],
   "outputs": [],
   "execution_count": 20
  },
  {
   "cell_type": "code",
   "id": "48161911abe16661",
   "metadata": {
    "ExecuteTime": {
     "end_time": "2024-07-06T02:26:19.947979Z",
     "start_time": "2024-07-06T02:26:19.943413Z"
    }
   },
   "source": [
    "Ip_target = 10e3 # Amps\n",
    "\n",
    "mygs.set_targets(Ip=Ip_target, Ip_ratio=0.02)"
   ],
   "outputs": [],
   "execution_count": 21
  },
  {
   "cell_type": "code",
   "id": "6367714af5b8438f",
   "metadata": {
    "ExecuteTime": {
     "end_time": "2024-07-06T02:26:20.618368Z",
     "start_time": "2024-07-06T02:26:20.614319Z"
    }
   },
   "source": [
    "isoflux_pts = np.array([\n",
    "    [0.3, 0.24],\n",
    "    [0.3, -0.24]\n",
    "])\n",
    "\n",
    "mygs.set_isoflux(isoflux_pts)"
   ],
   "outputs": [],
   "execution_count": 22
  },
  {
   "metadata": {
    "ExecuteTime": {
     "end_time": "2024-07-06T02:26:21.136440Z",
     "start_time": "2024-07-06T02:26:21.131963Z"
    }
   },
   "cell_type": "code",
   "source": [
    "coil_reg_mat = np.eye(mygs.ncoils+1, dtype=np.float64)\n",
    "coil_reg_weights = 1.E-1*np.ones((mygs.ncoils+1,), dtype=np.float64)\n",
    "coil_reg_targets = np.zeros((mygs.ncoils+1,), dtype=np.float64)\n",
    "\n",
    "# Force shaping coil to 0\n",
    "# coil_reg_weights[mygs.coil_sets['SH']['id']] = 1.E3\n",
    "\n",
    "# Set OH current to -8 kA\n",
    "# coil_reg_targets[mygs.coil_sets['OH']['id']] = -8.E3\n",
    "# coil_reg_weights[mygs.coil_sets['OH']['id']] = 1.E3\n",
    "\n",
    "# Pass regularization terms to TokaMaker\n",
    "mygs.set_coil_reg(coil_reg_mat, reg_weights=coil_reg_weights, reg_targets=coil_reg_targets)"
   ],
   "id": "67f7a223c21d14d6",
   "outputs": [],
   "execution_count": 23
  },
  {
   "metadata": {
    "ExecuteTime": {
     "end_time": "2024-07-06T02:26:22.300760Z",
     "start_time": "2024-07-06T02:26:21.721354Z"
    }
   },
   "cell_type": "code",
   "source": [
    "# Set profiles\n",
    "ffp_prof = create_power_flux_fun(40,1.5,2.0)\n",
    "pp_prof = create_power_flux_fun(40,4.0,1.0)\n",
    "\n",
    "fig, ax = plt.subplots(2,1,sharex=True)\n",
    "# Plot F*F'\n",
    "ax[0].plot(ffp_prof['x'],ffp_prof['y'])\n",
    "ax[0].set_ylabel(\"FF'\")\n",
    "# Plot P'\n",
    "ax[1].plot(pp_prof['x'],pp_prof['y'])\n",
    "ax[1].set_ylabel(\"P'\")\n",
    "_ = ax[-1].set_xlabel(r\"$\\hat{\\psi}$\")\n",
    "\n",
    "mygs.set_profiles(ffp_prof=ffp_prof,pp_prof=pp_prof)"
   ],
   "id": "b10a08595d03b49e",
   "outputs": [
    {
     "data": {
      "text/plain": [
       "<Figure size 600x600 with 2 Axes>"
      ],
      "image/png": "[encoded data removed]"
     },
     "metadata": {},
     "output_type": "display_data"
    }
   ],
   "execution_count": 24
  },
  {
   "metadata": {
    "ExecuteTime": {
     "end_time": "2024-07-06T02:26:22.732453Z",
     "start_time": "2024-07-06T02:26:22.459089Z"
    }
   },
   "cell_type": "code",
   "source": [
    "R0 = 0.28\n",
    "Z0 = 0.0\n",
    "a = 0.12\n",
    "kappa = 1.2\n",
    "delta = 0.05\n",
    "err_flag = mygs.init_psi(R0, Z0, a, kappa, delta)\n",
    "err_flag = mygs.solve()"
   ],
   "id": "5607cd19a9e9ee17",
   "outputs": [
    {
     "name": "stdout",
     "output_type": "stream",
     "text": [
      "Starting non-linear GS solver\n",
      "     1  2.2145E-02  2.0040E+00  2.4326E-04  4.1779E-01  4.0485E-05 -0.0000E+00\n",
      "     2  4.9942E-02  4.0328E+00  3.0679E-04  4.2721E-01  3.2431E-05 -0.0000E+00\n",
      "     3  8.4136E-02  6.4681E+00  3.3944E-04  4.3325E-01  5.2704E-05 -0.0000E+00\n",
      "     4  1.2440E-01  9.2793E+00  3.5905E-04  4.3756E-01  3.1372E-05 -0.0000E+00\n",
      "     5  1.7051E-01  1.2449E+01  3.7851E-04  4.4084E-01 -1.2585E-05 -0.0000E+00\n",
      "     6  2.2233E-01  1.5974E+01  3.7621E-04  4.4341E-01  1.8012E-05 -0.0000E+00\n",
      "     7  2.7958E-01  1.9844E+01  3.7901E-04  4.4554E-01  4.8644E-05 -0.0000E+00\n",
      "     8  3.4175E-01  2.3952E+01  4.2736E-04  4.4731E-01  6.7616E-05 -0.0000E+00\n",
      "     9  4.1055E-01  2.8698E+01  4.2535E-04  4.4883E-01  6.3196E-05 -0.0000E+00\n",
      "    10  4.8881E-01  3.3747E+01  4.4298E-04  4.5015E-01  6.4151E-05 -0.0000E+00\n",
      "    11  5.7417E-01  3.9388E+01  4.2239E-04  4.5131E-01  6.1362E-05 -0.0000E+00\n",
      "    12  6.6892E-01  4.5557E+01  4.0579E-04  4.5234E-01  4.4205E-05 -0.0000E+00\n",
      "    13  7.7148E-01  5.2003E+01  4.5162E-04  4.5326E-01  6.7474E-05 -0.0000E+00\n",
      "    14  8.8120E-01  5.9294E+01  4.1580E-04  4.5416E-01  6.3211E-05 -0.0000E+00\n",
      "    15  1.0032E+00  6.6824E+01  4.1570E-04  4.5496E-01  3.6518E-05 -0.0000E+00\n",
      "    16  1.1368E+00  7.5228E+01  4.0443E-04  4.5539E-01  1.9435E-04 -0.0000E+00\n",
      "    17  1.2813E+00  8.4857E+01  3.5294E-04  4.5602E-01  1.7934E-04 -0.0000E+00\n",
      "    18  1.4444E+00  9.4190E+01  3.8168E-04  4.5655E-01  1.3014E-04 -0.0000E+00\n",
      "    19  1.6088E+00  1.0469E+02  2.9812E-03  5.0000E-01  0.0000E+00 -0.0000E+00\n",
      "    20  1.8944E+01  2.2705E+03  4.8630E-03  5.0000E-01  0.0000E+00 -0.0000E+00\n",
      "    21  5.1043E+01  6.1409E+03  1.0522E-02  5.0000E-01  0.0000E+00 -0.0000E+00\n",
      " DGETRF           1\n",
      " Timing:  0.19344067800011544     \n",
      "   Source:     9.0954501998567139E-002\n",
      "   Solve:      8.5826166992774233E-002\n",
      "   Boundary:   2.7229990027990425E-003\n",
      "   Other:      1.3937010005975026E-002\n"
     ]
    }
   ],
   "execution_count": 25
  },
  {
   "metadata": {
    "ExecuteTime": {
     "end_time": "2024-07-06T02:26:23.937893Z",
     "start_time": "2024-07-06T02:26:23.059885Z"
    }
   },
   "cell_type": "code",
   "source": [
    "fig, ax = plt.subplots(1,1)\n",
    "mygs.plot_machine(fig,ax,coil_colormap='seismic',coil_symmap=True,coil_scale=1.0E-3,coil_clabel=r'$I_{coil}$ [kA]')\n",
    "mygs.plot_psi(fig,ax,xpoint_color='k',vacuum_nlevels=8)\n",
    "mygs.plot_constraints(fig,ax,isoflux_color='tab:red',isoflux_marker='.')"
   ],
   "id": "72f2c663f6faa56b",
   "outputs": [
    {
     "name": "stderr",
     "output_type": "stream",
     "text": [
      "/home/roy/AtomCraft/install_release/python/OpenFUSIONToolkit/TokaMaker/_core.py:770: RuntimeWarning: divide by zero encountered in divide\n",
      "  psi = (psi-psi_lim.value)/(psi_max.value-psi_lim.value)\n",
      "/home/roy/AtomCraft/install_release/python/OpenFUSIONToolkit/TokaMaker/_core.py:770: RuntimeWarning: invalid value encountered in divide\n",
      "  psi = (psi-psi_lim.value)/(psi_max.value-psi_lim.value)\n"
     ]
    },
    {
     "ename": "ValueError",
     "evalue": "z array must not contain non-finite values within the triangulation",
     "output_type": "error",
     "traceback": [
      "\u001B[0;31m---------------------------------------------------------------------------\u001B[0m",
      "\u001B[0;31mValueError\u001B[0m                                Traceback (most recent call last)",
      "Cell \u001B[0;32mIn[26], line 3\u001B[0m\n\u001B[1;32m      1\u001B[0m fig, ax \u001B[38;5;241m=\u001B[39m plt\u001B[38;5;241m.\u001B[39msubplots(\u001B[38;5;241m1\u001B[39m,\u001B[38;5;241m1\u001B[39m)\n\u001B[1;32m      2\u001B[0m mygs\u001B[38;5;241m.\u001B[39mplot_machine(fig,ax,coil_colormap\u001B[38;5;241m=\u001B[39m\u001B[38;5;124m'\u001B[39m\u001B[38;5;124mseismic\u001B[39m\u001B[38;5;124m'\u001B[39m,coil_symmap\u001B[38;5;241m=\u001B[39m\u001B[38;5;28;01mTrue\u001B[39;00m,coil_scale\u001B[38;5;241m=\u001B[39m\u001B[38;5;241m1.0E-3\u001B[39m,coil_clabel\u001B[38;5;241m=\u001B[39m\u001B[38;5;124mr\u001B[39m\u001B[38;5;124m'\u001B[39m\u001B[38;5;124m$I_\u001B[39m\u001B[38;5;132;01m{coil}\u001B[39;00m\u001B[38;5;124m$ [kA]\u001B[39m\u001B[38;5;124m'\u001B[39m)\n\u001B[0;32m----> 3\u001B[0m \u001B[43mmygs\u001B[49m\u001B[38;5;241;43m.\u001B[39;49m\u001B[43mplot_psi\u001B[49m\u001B[43m(\u001B[49m\u001B[43mfig\u001B[49m\u001B[43m,\u001B[49m\u001B[43max\u001B[49m\u001B[43m,\u001B[49m\u001B[43mxpoint_color\u001B[49m\u001B[38;5;241;43m=\u001B[39;49m\u001B[38;5;124;43m'\u001B[39;49m\u001B[38;5;124;43mk\u001B[39;49m\u001B[38;5;124;43m'\u001B[39;49m\u001B[43m,\u001B[49m\u001B[43mvacuum_nlevels\u001B[49m\u001B[38;5;241;43m=\u001B[39;49m\u001B[38;5;241;43m8\u001B[39;49m\u001B[43m)\u001B[49m\n\u001B[1;32m      4\u001B[0m mygs\u001B[38;5;241m.\u001B[39mplot_constraints(fig,ax,isoflux_color\u001B[38;5;241m=\u001B[39m\u001B[38;5;124m'\u001B[39m\u001B[38;5;124mtab:red\u001B[39m\u001B[38;5;124m'\u001B[39m,isoflux_marker\u001B[38;5;241m=\u001B[39m\u001B[38;5;124m'\u001B[39m\u001B[38;5;124m.\u001B[39m\u001B[38;5;124m'\u001B[39m)\n",
      "File \u001B[0;32m~/AtomCraft/install_release/python/OpenFUSIONToolkit/TokaMaker/_core.py:1132\u001B[0m, in \u001B[0;36mTokaMaker.plot_psi\u001B[0;34m(self, fig, ax, psi, normalized, plasma_color, plasma_nlevels, plasma_levels, plasma_colormap, plasma_linestyles, vacuum_color, vacuum_nlevels, vacuum_levels, vacuum_colormap, vacuum_linestyles, xpoint_color, xpoint_marker, opoint_color, opoint_marker)\u001B[0m\n\u001B[1;32m   1130\u001B[0m     plasma_colormap\u001B[38;5;241m=\u001B[39m\u001B[38;5;124m'\u001B[39m\u001B[38;5;124mviridis\u001B[39m\u001B[38;5;124m'\u001B[39m\n\u001B[1;32m   1131\u001B[0m \u001B[38;5;28;01mif\u001B[39;00m vacuum_levels \u001B[38;5;129;01mis\u001B[39;00m \u001B[38;5;129;01mnot\u001B[39;00m \u001B[38;5;28;01mNone\u001B[39;00m:\n\u001B[0;32m-> 1132\u001B[0m     \u001B[43max\u001B[49m\u001B[38;5;241;43m.\u001B[39;49m\u001B[43mtricontour\u001B[49m\u001B[43m(\u001B[49m\u001B[38;5;28;43mself\u001B[39;49m\u001B[38;5;241;43m.\u001B[39;49m\u001B[43mr\u001B[49m\u001B[43m[\u001B[49m\u001B[43m:\u001B[49m\u001B[43m,\u001B[49m\u001B[38;5;241;43m0\u001B[39;49m\u001B[43m]\u001B[49m\u001B[43m,\u001B[49m\u001B[38;5;28;43mself\u001B[39;49m\u001B[38;5;241;43m.\u001B[39;49m\u001B[43mr\u001B[49m\u001B[43m[\u001B[49m\u001B[43m:\u001B[49m\u001B[43m,\u001B[49m\u001B[38;5;241;43m1\u001B[39;49m\u001B[43m]\u001B[49m\u001B[43m,\u001B[49m\u001B[38;5;28;43mself\u001B[39;49m\u001B[38;5;241;43m.\u001B[39;49m\u001B[43mlc\u001B[49m\u001B[43m,\u001B[49m\u001B[43mpsi\u001B[49m\u001B[43m,\u001B[49m\u001B[43mlevels\u001B[49m\u001B[38;5;241;43m=\u001B[39;49m\u001B[43mvacuum_levels\u001B[49m\u001B[43m,\u001B[49m\u001B[43mcolors\u001B[49m\u001B[38;5;241;43m=\u001B[39;49m\u001B[43mvacuum_color\u001B[49m\u001B[43m,\u001B[49m\u001B[43mcmap\u001B[49m\u001B[38;5;241;43m=\u001B[39;49m\u001B[43mvacuum_colormap\u001B[49m\u001B[43m,\u001B[49m\u001B[43mlinestyles\u001B[49m\u001B[38;5;241;43m=\u001B[39;49m\u001B[43mvacuum_linestyles\u001B[49m\u001B[43m)\u001B[49m\n\u001B[1;32m   1133\u001B[0m \u001B[38;5;28;01mif\u001B[39;00m plasma_levels \u001B[38;5;129;01mis\u001B[39;00m \u001B[38;5;129;01mnot\u001B[39;00m \u001B[38;5;28;01mNone\u001B[39;00m:\n\u001B[1;32m   1134\u001B[0m     ax\u001B[38;5;241m.\u001B[39mtricontour(\u001B[38;5;28mself\u001B[39m\u001B[38;5;241m.\u001B[39mr[:,\u001B[38;5;241m0\u001B[39m],\u001B[38;5;28mself\u001B[39m\u001B[38;5;241m.\u001B[39mr[:,\u001B[38;5;241m1\u001B[39m],\u001B[38;5;28mself\u001B[39m\u001B[38;5;241m.\u001B[39mlc,psi,levels\u001B[38;5;241m=\u001B[39mplasma_levels,colors\u001B[38;5;241m=\u001B[39mplasma_color,cmap\u001B[38;5;241m=\u001B[39mplasma_colormap,linestyles\u001B[38;5;241m=\u001B[39mplasma_linestyles)\n",
      "File \u001B[0;32m~/.local/lib/python3.10/site-packages/matplotlib/tri/_tricontour.py:246\u001B[0m, in \u001B[0;36mtricontour\u001B[0;34m(ax, *args, **kwargs)\u001B[0m\n\u001B[1;32m    223\u001B[0m \u001B[38;5;124;03m\"\"\"\u001B[39;00m\n\u001B[1;32m    224\u001B[0m \u001B[38;5;124;03m%(_tricontour_doc)s\u001B[39;00m\n\u001B[1;32m    225\u001B[0m \n\u001B[0;32m   (...)\u001B[0m\n\u001B[1;32m    243\u001B[0m \u001B[38;5;124;03m    number of contour levels it will be repeated as necessary.\u001B[39;00m\n\u001B[1;32m    244\u001B[0m \u001B[38;5;124;03m\"\"\"\u001B[39;00m\n\u001B[1;32m    245\u001B[0m kwargs[\u001B[38;5;124m'\u001B[39m\u001B[38;5;124mfilled\u001B[39m\u001B[38;5;124m'\u001B[39m] \u001B[38;5;241m=\u001B[39m \u001B[38;5;28;01mFalse\u001B[39;00m\n\u001B[0;32m--> 246\u001B[0m \u001B[38;5;28;01mreturn\u001B[39;00m \u001B[43mTriContourSet\u001B[49m\u001B[43m(\u001B[49m\u001B[43max\u001B[49m\u001B[43m,\u001B[49m\u001B[43m \u001B[49m\u001B[38;5;241;43m*\u001B[39;49m\u001B[43margs\u001B[49m\u001B[43m,\u001B[49m\u001B[43m \u001B[49m\u001B[38;5;241;43m*\u001B[39;49m\u001B[38;5;241;43m*\u001B[39;49m\u001B[43mkwargs\u001B[49m\u001B[43m)\u001B[49m\n",
      "File \u001B[0;32m~/.local/lib/python3.10/site-packages/matplotlib/tri/_tricontour.py:29\u001B[0m, in \u001B[0;36mTriContourSet.__init__\u001B[0;34m(self, ax, *args, **kwargs)\u001B[0m\n\u001B[1;32m     19\u001B[0m \u001B[38;5;28;01mdef\u001B[39;00m \u001B[38;5;21m__init__\u001B[39m(\u001B[38;5;28mself\u001B[39m, ax, \u001B[38;5;241m*\u001B[39margs, \u001B[38;5;241m*\u001B[39m\u001B[38;5;241m*\u001B[39mkwargs):\n\u001B[1;32m     20\u001B[0m     \u001B[38;5;124;03m\"\"\"\u001B[39;00m\n\u001B[1;32m     21\u001B[0m \u001B[38;5;124;03m    Draw triangular grid contour lines or filled regions,\u001B[39;00m\n\u001B[1;32m     22\u001B[0m \u001B[38;5;124;03m    depending on whether keyword arg *filled* is False\u001B[39;00m\n\u001B[0;32m   (...)\u001B[0m\n\u001B[1;32m     27\u001B[0m \u001B[38;5;124;03m    are described in the docstring of `~.Axes.tricontour`.\u001B[39;00m\n\u001B[1;32m     28\u001B[0m \u001B[38;5;124;03m    \"\"\"\u001B[39;00m\n\u001B[0;32m---> 29\u001B[0m     \u001B[38;5;28;43msuper\u001B[39;49m\u001B[43m(\u001B[49m\u001B[43m)\u001B[49m\u001B[38;5;241;43m.\u001B[39;49m\u001B[38;5;21;43m__init__\u001B[39;49m\u001B[43m(\u001B[49m\u001B[43max\u001B[49m\u001B[43m,\u001B[49m\u001B[43m \u001B[49m\u001B[38;5;241;43m*\u001B[39;49m\u001B[43margs\u001B[49m\u001B[43m,\u001B[49m\u001B[43m \u001B[49m\u001B[38;5;241;43m*\u001B[39;49m\u001B[38;5;241;43m*\u001B[39;49m\u001B[43mkwargs\u001B[49m\u001B[43m)\u001B[49m\n",
      "File \u001B[0;32m~/.local/lib/python3.10/site-packages/matplotlib/contour.py:769\u001B[0m, in \u001B[0;36mContourSet.__init__\u001B[0;34m(self, ax, levels, filled, linewidths, linestyles, hatches, alpha, origin, extent, cmap, colors, norm, vmin, vmax, extend, antialiased, nchunk, locator, transform, negative_linestyles, *args, **kwargs)\u001B[0m\n\u001B[1;32m    765\u001B[0m \u001B[38;5;28;01mif\u001B[39;00m \u001B[38;5;28mself\u001B[39m\u001B[38;5;241m.\u001B[39mnegative_linestyles \u001B[38;5;129;01mis\u001B[39;00m \u001B[38;5;28;01mNone\u001B[39;00m:\n\u001B[1;32m    766\u001B[0m     \u001B[38;5;28mself\u001B[39m\u001B[38;5;241m.\u001B[39mnegative_linestyles \u001B[38;5;241m=\u001B[39m \\\n\u001B[1;32m    767\u001B[0m         mpl\u001B[38;5;241m.\u001B[39mrcParams[\u001B[38;5;124m'\u001B[39m\u001B[38;5;124mcontour.negative_linestyle\u001B[39m\u001B[38;5;124m'\u001B[39m]\n\u001B[0;32m--> 769\u001B[0m kwargs \u001B[38;5;241m=\u001B[39m \u001B[38;5;28;43mself\u001B[39;49m\u001B[38;5;241;43m.\u001B[39;49m\u001B[43m_process_args\u001B[49m\u001B[43m(\u001B[49m\u001B[38;5;241;43m*\u001B[39;49m\u001B[43margs\u001B[49m\u001B[43m,\u001B[49m\u001B[43m \u001B[49m\u001B[38;5;241;43m*\u001B[39;49m\u001B[38;5;241;43m*\u001B[39;49m\u001B[43mkwargs\u001B[49m\u001B[43m)\u001B[49m\n\u001B[1;32m    770\u001B[0m \u001B[38;5;28mself\u001B[39m\u001B[38;5;241m.\u001B[39m_process_levels()\n\u001B[1;32m    772\u001B[0m \u001B[38;5;28mself\u001B[39m\u001B[38;5;241m.\u001B[39m_extend_min \u001B[38;5;241m=\u001B[39m \u001B[38;5;28mself\u001B[39m\u001B[38;5;241m.\u001B[39mextend \u001B[38;5;129;01min\u001B[39;00m [\u001B[38;5;124m'\u001B[39m\u001B[38;5;124mmin\u001B[39m\u001B[38;5;124m'\u001B[39m, \u001B[38;5;124m'\u001B[39m\u001B[38;5;124mboth\u001B[39m\u001B[38;5;124m'\u001B[39m]\n",
      "File \u001B[0;32m~/.local/lib/python3.10/site-packages/matplotlib/tri/_tricontour.py:45\u001B[0m, in \u001B[0;36mTriContourSet._process_args\u001B[0;34m(self, *args, **kwargs)\u001B[0m\n\u001B[1;32m     43\u001B[0m \u001B[38;5;28;01melse\u001B[39;00m:\n\u001B[1;32m     44\u001B[0m     \u001B[38;5;28;01mfrom\u001B[39;00m \u001B[38;5;21;01mmatplotlib\u001B[39;00m \u001B[38;5;28;01mimport\u001B[39;00m _tri\n\u001B[0;32m---> 45\u001B[0m     tri, z \u001B[38;5;241m=\u001B[39m \u001B[38;5;28;43mself\u001B[39;49m\u001B[38;5;241;43m.\u001B[39;49m\u001B[43m_contour_args\u001B[49m\u001B[43m(\u001B[49m\u001B[43margs\u001B[49m\u001B[43m,\u001B[49m\u001B[43m \u001B[49m\u001B[43mkwargs\u001B[49m\u001B[43m)\u001B[49m\n\u001B[1;32m     46\u001B[0m     C \u001B[38;5;241m=\u001B[39m _tri\u001B[38;5;241m.\u001B[39mTriContourGenerator(tri\u001B[38;5;241m.\u001B[39mget_cpp_triangulation(), z)\n\u001B[1;32m     47\u001B[0m     \u001B[38;5;28mself\u001B[39m\u001B[38;5;241m.\u001B[39m_mins \u001B[38;5;241m=\u001B[39m [tri\u001B[38;5;241m.\u001B[39mx\u001B[38;5;241m.\u001B[39mmin(), tri\u001B[38;5;241m.\u001B[39my\u001B[38;5;241m.\u001B[39mmin()]\n",
      "File \u001B[0;32m~/.local/lib/python3.10/site-packages/matplotlib/tri/_tricontour.py:69\u001B[0m, in \u001B[0;36mTriContourSet._contour_args\u001B[0;34m(self, args, kwargs)\u001B[0m\n\u001B[1;32m     66\u001B[0m     \u001B[38;5;28;01mraise\u001B[39;00m \u001B[38;5;167;01mValueError\u001B[39;00m(\u001B[38;5;124m'\u001B[39m\u001B[38;5;124mz must not contain masked points within the \u001B[39m\u001B[38;5;124m'\u001B[39m\n\u001B[1;32m     67\u001B[0m                      \u001B[38;5;124m'\u001B[39m\u001B[38;5;124mtriangulation\u001B[39m\u001B[38;5;124m'\u001B[39m)\n\u001B[1;32m     68\u001B[0m \u001B[38;5;28;01mif\u001B[39;00m \u001B[38;5;129;01mnot\u001B[39;00m np\u001B[38;5;241m.\u001B[39misfinite(z_check)\u001B[38;5;241m.\u001B[39mall():\n\u001B[0;32m---> 69\u001B[0m     \u001B[38;5;28;01mraise\u001B[39;00m \u001B[38;5;167;01mValueError\u001B[39;00m(\u001B[38;5;124m'\u001B[39m\u001B[38;5;124mz array must not contain non-finite values \u001B[39m\u001B[38;5;124m'\u001B[39m\n\u001B[1;32m     70\u001B[0m                      \u001B[38;5;124m'\u001B[39m\u001B[38;5;124mwithin the triangulation\u001B[39m\u001B[38;5;124m'\u001B[39m)\n\u001B[1;32m     72\u001B[0m z \u001B[38;5;241m=\u001B[39m np\u001B[38;5;241m.\u001B[39mma\u001B[38;5;241m.\u001B[39mmasked_invalid(z, copy\u001B[38;5;241m=\u001B[39m\u001B[38;5;28;01mFalse\u001B[39;00m)\n\u001B[1;32m     73\u001B[0m \u001B[38;5;28mself\u001B[39m\u001B[38;5;241m.\u001B[39mzmax \u001B[38;5;241m=\u001B[39m \u001B[38;5;28mfloat\u001B[39m(z_check\u001B[38;5;241m.\u001B[39mmax())\n",
      "\u001B[0;31mValueError\u001B[0m: z array must not contain non-finite values within the triangulation"
     ]
    },
    {
     "data": {
      "text/plain": [
       "<Figure size 600x600 with 2 Axes>"
      ],
      "image/png": "[encoded data removed]"
     },
     "metadata": {},
     "output_type": "display_data"
    }
   ],
   "execution_count": 26
  },
  {
   "metadata": {
    "ExecuteTime": {
     "end_time": "2024-07-06T02:26:27.688603Z",
     "start_time": "2024-07-06T02:26:27.135230Z"
    }
   },
   "cell_type": "code",
   "source": [
    "mygs.print_info()\n",
    "\n",
    "print()\n",
    "print(\"Coil Currents [kA]:\")\n",
    "coil_currents, _ = mygs.get_coil_currents()\n",
    "for key in mygs.coil_sets:\n",
    "    i = mygs.coil_sets[key]['id']\n",
    "    print('  {0:10} {1:10.2F}'.format(key+\":\",coil_currents[i]/1.E3))"
   ],
   "id": "12f25c7a2abe67cb",
   "outputs": [
    {
     "name": "stdout",
     "output_type": "stream",
     "text": [
      "           1  0.45506804570580112        0.0000000000000000        0.0000000000000000     \n",
      "           2  0.45506804570580112        0.0000000000000000        0.0000000000000000     \n"
     ]
    },
    {
     "name": "stderr",
     "output_type": "stream",
     "text": [
      "[    0] WARNING: gs_get_qprof: Trace did not complete\n",
      "[    0] WARNING: gs_get_qprof: Trace did not complete\n"
     ]
    },
    {
     "name": "stdout",
     "output_type": "stream",
     "text": [
      "           3  0.45506804570580112        0.0000000000000000        0.0000000000000000     \n"
     ]
    },
    {
     "name": "stderr",
     "output_type": "stream",
     "text": [
      "[    0] WARNING: gs_get_qprof: Trace did not complete\n"
     ]
    },
    {
     "ename": "ZeroDivisionError",
     "evalue": "float division by zero",
     "output_type": "error",
     "traceback": [
      "\u001B[0;31m---------------------------------------------------------------------------\u001B[0m",
      "\u001B[0;31mZeroDivisionError\u001B[0m                         Traceback (most recent call last)",
      "Cell \u001B[0;32mIn[27], line 1\u001B[0m\n\u001B[0;32m----> 1\u001B[0m \u001B[43mmygs\u001B[49m\u001B[38;5;241;43m.\u001B[39;49m\u001B[43mprint_info\u001B[49m\u001B[43m(\u001B[49m\u001B[43m)\u001B[49m\n\u001B[1;32m      3\u001B[0m \u001B[38;5;28mprint\u001B[39m()\n\u001B[1;32m      4\u001B[0m \u001B[38;5;28mprint\u001B[39m(\u001B[38;5;124m\"\u001B[39m\u001B[38;5;124mCoil Currents [kA]:\u001B[39m\u001B[38;5;124m\"\u001B[39m)\n",
      "File \u001B[0;32m~/AtomCraft/install_release/python/OpenFUSIONToolkit/TokaMaker/_core.py:620\u001B[0m, in \u001B[0;36mTokaMaker.print_info\u001B[0;34m(self, lcfs_pad, li_normalization)\u001B[0m\n\u001B[1;32m    614\u001B[0m \u001B[38;5;28;01mdef\u001B[39;00m \u001B[38;5;21mprint_info\u001B[39m(\u001B[38;5;28mself\u001B[39m,lcfs_pad\u001B[38;5;241m=\u001B[39m\u001B[38;5;241m0.01\u001B[39m,li_normalization\u001B[38;5;241m=\u001B[39m\u001B[38;5;124m'\u001B[39m\u001B[38;5;124mstd\u001B[39m\u001B[38;5;124m'\u001B[39m):\n\u001B[1;32m    615\u001B[0m     \u001B[38;5;124;03m'''! Print information (Ip, q, etc.) about current G-S equilbirium\u001B[39;00m\n\u001B[1;32m    616\u001B[0m \u001B[38;5;124;03m    \u001B[39;00m\n\u001B[1;32m    617\u001B[0m \u001B[38;5;124;03m    @param lcfs_pad Padding at LCFS for boundary calculations\u001B[39;00m\n\u001B[1;32m    618\u001B[0m \u001B[38;5;124;03m    @param li_normalization Form of normalized \\f$ l_i \\f$ ('std', 'ITER')\u001B[39;00m\n\u001B[1;32m    619\u001B[0m \u001B[38;5;124;03m    '''\u001B[39;00m\n\u001B[0;32m--> 620\u001B[0m     eq_stats \u001B[38;5;241m=\u001B[39m \u001B[38;5;28;43mself\u001B[39;49m\u001B[38;5;241;43m.\u001B[39;49m\u001B[43mget_stats\u001B[49m\u001B[43m(\u001B[49m\u001B[43mlcfs_pad\u001B[49m\u001B[38;5;241;43m=\u001B[39;49m\u001B[43mlcfs_pad\u001B[49m\u001B[43m,\u001B[49m\u001B[43mli_normalization\u001B[49m\u001B[38;5;241;43m=\u001B[39;49m\u001B[43mli_normalization\u001B[49m\u001B[43m)\u001B[49m\n\u001B[1;32m    621\u001B[0m     \u001B[38;5;28mprint\u001B[39m(\u001B[38;5;124m\"\u001B[39m\u001B[38;5;124mEquilibrium Statistics:\u001B[39m\u001B[38;5;124m\"\u001B[39m)\n\u001B[1;32m    622\u001B[0m     \u001B[38;5;28;01mif\u001B[39;00m \u001B[38;5;28mself\u001B[39m\u001B[38;5;241m.\u001B[39mdiverted:\n",
      "File \u001B[0;32m~/AtomCraft/install_release/python/OpenFUSIONToolkit/TokaMaker/_core.py:585\u001B[0m, in \u001B[0;36mTokaMaker.get_stats\u001B[0;34m(self, lcfs_pad, li_normalization)\u001B[0m\n\u001B[1;32m    583\u001B[0m \u001B[38;5;66;03m# Compute normalized inductance\u001B[39;00m\n\u001B[1;32m    584\u001B[0m \u001B[38;5;28;01mif\u001B[39;00m li_normalization\u001B[38;5;241m.\u001B[39mlower() \u001B[38;5;241m==\u001B[39m \u001B[38;5;124m'\u001B[39m\u001B[38;5;124mstd\u001B[39m\u001B[38;5;124m'\u001B[39m:\n\u001B[0;32m--> 585\u001B[0m     li \u001B[38;5;241m=\u001B[39m (\u001B[43mBp_vol\u001B[49m\u001B[38;5;241;43m/\u001B[39;49m\u001B[43mvol\u001B[49m)\u001B[38;5;241m/\u001B[39mnumpy\u001B[38;5;241m.\u001B[39mpower(mu0\u001B[38;5;241m*\u001B[39mIp\u001B[38;5;241m/\u001B[39mdl,\u001B[38;5;241m2\u001B[39m)\n\u001B[1;32m    586\u001B[0m \u001B[38;5;28;01melif\u001B[39;00m li_normalization\u001B[38;5;241m.\u001B[39mlower() \u001B[38;5;241m==\u001B[39m \u001B[38;5;124m'\u001B[39m\u001B[38;5;124miter\u001B[39m\u001B[38;5;124m'\u001B[39m:\n\u001B[1;32m    587\u001B[0m     li \u001B[38;5;241m=\u001B[39m \u001B[38;5;241m2.0\u001B[39m\u001B[38;5;241m*\u001B[39mBp_vol\u001B[38;5;241m/\u001B[39m(numpy\u001B[38;5;241m.\u001B[39mpower(mu0\u001B[38;5;241m*\u001B[39mIp,\u001B[38;5;241m2\u001B[39m)\u001B[38;5;241m*\u001B[39m\u001B[38;5;28mself\u001B[39m\u001B[38;5;241m.\u001B[39mo_point[\u001B[38;5;241m0\u001B[39m])\n",
      "\u001B[0;31mZeroDivisionError\u001B[0m: float division by zero"
     ]
    }
   ],
   "execution_count": 27
  }
 ],
 "metadata": {
  "kernelspec": {
   "display_name": "Python 3 (ipykernel)",
   "language": "python",
   "name": "python3"
  },
  "language_info": {
   "codemirror_mode": {
    "name": "ipython",
    "version": 3
   },
   "file_extension": ".py",
   "mimetype": "text/x-python",
   "name": "python",
   "nbconvert_exporter": "python",
   "pygments_lexer": "ipython3",
   "version": "3.10.12"
  }
 },
 "nbformat": 4,
 "nbformat_minor": 5
}
