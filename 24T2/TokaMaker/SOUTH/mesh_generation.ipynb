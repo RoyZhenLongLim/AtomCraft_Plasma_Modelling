{
 "cells": [
  {
   "cell_type": "code",
   "id": "initial_id",
   "metadata": {
    "collapsed": true,
    "ExecuteTime": {
     "end_time": "2024-06-16T10:57:27.350458Z",
     "start_time": "2024-06-16T10:57:26.896373Z"
    }
   },
   "source": [
    "import json\n",
    "import numpy as np\n",
    "import matplotlib.pyplot as plt"
   ],
   "outputs": [],
   "execution_count": 3
  },
  {
   "metadata": {},
   "cell_type": "code",
   "outputs": [],
   "execution_count": null,
   "source": "hbt_geom = ",
   "id": "3ec8204cca480dd4"
  },
  {
   "metadata": {
    "ExecuteTime": {
     "end_time": "2024-06-16T10:58:12.418137Z",
     "start_time": "2024-06-16T10:58:12.413752Z"
    }
   },
   "cell_type": "code",
   "source": [
    "geom = {\n",
    "    \"limiter\": [],\n",
    "    \"vv\": {\n",
    "        \"eta\": 6.9e-7\n",
    "    },\n",
    "    \"coils\": []\n",
    "}"
   ],
   "id": "f7b422dd613fa697",
   "outputs": [],
   "execution_count": 7
  },
  {
   "metadata": {
    "ExecuteTime": {
     "end_time": "2024-06-16T11:18:34.231889Z",
     "start_time": "2024-06-16T11:18:34.226083Z"
    }
   },
   "cell_type": "code",
   "source": [
    "# Create Limiter and VV\n",
    "R0 = 0.28  # Middle of the circle\n",
    "rwall = 0.12  # Radius of the circular wall\n",
    "npoints = 200  # Number of points on the wall\n",
    "\n",
    "thetas = np.linspace(0, 2 * np.pi, npoints, endpoint=False)\n",
    "Rwalls = R0 + rwall * np.cos(thetas)\n",
    "Zwalls = rwall * np.sin(thetas)\n",
    "\n",
    "limiter = []\n",
    "for R, Z in zip(Rwalls, Zwalls):\n",
    "    limiter.append([R, Z])\n",
    "    \n",
    "geom[\"limiter\"] = limiter\n",
    "geom[\"vv\"][\"vv_inner_cntr\"] = limiter\n",
    "geom[\"vv\"][\"vv_outer_cntr\"] = limiter\n",
    "geom[\"vv\"][\"shell_cntr\"] = limiter"
   ],
   "id": "70bc0e2abd77535",
   "outputs": [],
   "execution_count": 9
  },
  {
   "metadata": {},
   "cell_type": "code",
   "outputs": [],
   "execution_count": null,
   "source": [
    "# Create Coils\n",
    "coils = []\n",
    " "
   ],
   "id": "85f6913fa945e20e"
  },
  {
   "metadata": {},
   "cell_type": "code",
   "outputs": [],
   "execution_count": null,
   "source": [
    "# Save geom\n",
    "with open(\"mesh.json\", \"w\") as mesh:\n",
    "    json.dump(geom, mesh)"
   ],
   "id": "197d1303765d36ad"
  }
 ],
 "metadata": {
  "kernelspec": {
   "display_name": "Python 3",
   "language": "python",
   "name": "python3"
  },
  "language_info": {
   "codemirror_mode": {
    "name": "ipython",
    "version": 2
   },
   "file_extension": ".py",
   "mimetype": "text/x-python",
   "name": "python",
   "nbconvert_exporter": "python",
   "pygments_lexer": "ipython2",
   "version": "2.7.6"
  }
 },
 "nbformat": 4,
 "nbformat_minor": 5
}
