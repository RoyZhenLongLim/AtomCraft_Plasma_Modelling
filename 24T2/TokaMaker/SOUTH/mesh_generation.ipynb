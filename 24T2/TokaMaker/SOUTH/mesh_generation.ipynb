{
 "cells": [
  {
   "cell_type": "code",
   "id": "initial_id",
   "metadata": {
    "ExecuteTime": {
     "end_time": "2024-06-30T07:19:17.851647Z",
     "start_time": "2024-06-30T07:19:17.310123Z"
    }
   },
   "source": [
    "import sys\n",
    "import json\n",
    "import numpy as np\n",
    "import matplotlib.pyplot as plt\n",
    "\n",
    "sys.path.append('/home/roy/AtomCraft/install_release/python')\n",
    "from OpenFUSIONToolkit.TokaMaker import TokaMaker\n",
    "from OpenFUSIONToolkit.TokaMaker.meshing import load_gs_mesh\n",
    "from OpenFUSIONToolkit.TokaMaker.util import create_power_flux_fun\n",
    "from OpenFUSIONToolkit.TokaMaker.meshing import gs_Domain, save_gs_mesh"
   ],
   "outputs": [],
   "execution_count": 4
  },
  {
   "cell_type": "code",
   "id": "e075450981324cbd",
   "metadata": {
    "ExecuteTime": {
     "end_time": "2024-06-30T07:19:17.958848Z",
     "start_time": "2024-06-30T07:19:17.954884Z"
    }
   },
   "source": [
    "plt.rcParams['figure.figsize']=(6,6)\n",
    "plt.rcParams['font.weight']='bold'\n",
    "plt.rcParams['axes.labelweight']='bold'\n",
    "plt.rcParams['lines.linewidth']=2\n",
    "plt.rcParams['lines.markeredgewidth']=2"
   ],
   "outputs": [],
   "execution_count": 5
  },
  {
   "cell_type": "markdown",
   "id": "6303a8c4e43dd76a",
   "metadata": {},
   "source": [
    "# Mesh Generation"
   ]
  },
  {
   "cell_type": "code",
   "id": "de31dc70b3e715a7",
   "metadata": {
    "ExecuteTime": {
     "end_time": "2024-06-30T06:02:55.211284Z",
     "start_time": "2024-06-30T06:02:55.207210Z"
    }
   },
   "source": [
    "plasma_dx = 0.01\n",
    "coil_dx = 0.01\n",
    "vv_dx = 0.01\n",
    "vac_dx = 0.06"
   ],
   "outputs": [],
   "execution_count": 3
  },
  {
   "cell_type": "code",
   "id": "f7b422dd613fa697",
   "metadata": {
    "ExecuteTime": {
     "end_time": "2024-06-30T06:02:55.720366Z",
     "start_time": "2024-06-30T06:02:55.715973Z"
    }
   },
   "source": [
    "geom = {\n",
    "    \"limiter\": [],\n",
    "    \"vv\": {\n",
    "        \"eta\": 6.9e-7\n",
    "    },\n",
    "    \"coils\": []\n",
    "}"
   ],
   "outputs": [],
   "execution_count": 4
  },
  {
   "cell_type": "code",
   "id": "70bc0e2abd77535",
   "metadata": {
    "ExecuteTime": {
     "end_time": "2024-06-30T06:02:56.506946Z",
     "start_time": "2024-06-30T06:02:56.498676Z"
    }
   },
   "source": [
    "# * Create Limiter and VV\n",
    "limiter = []\n",
    "\n",
    "RWalls = [0.160, 0.1761, 0.2200, 0.280, 0.3400, 0.3839, 0.40, 0.3839, 0.3400, 0.280, 0.2200, 0.1761, 0.160]\n",
    "ZWalls = [0.000, 0.0600, 0.1039, 0.120, 0.1039, 0.0600, 0.00, -0.0600, -0.1039, -0.120, -0.1039, -0.0600, 0.000]\n",
    "for R, Z in zip(RWalls, ZWalls):\n",
    "    limiter.append([R, Z])\n",
    "    \n",
    "geom[\"limiter\"] = limiter\n",
    "geom[\"vv\"][\"vv_inner_cntr\"] = limiter\n",
    "geom[\"vv\"][\"vv_outer_cntr\"] = limiter\n",
    "geom[\"vv\"][\"shell_cntr\"] = limiter"
   ],
   "outputs": [],
   "execution_count": 5
  },
  {
   "cell_type": "code",
   "id": "85f6913fa945e20e",
   "metadata": {
    "ExecuteTime": {
     "end_time": "2024-06-30T06:03:50.748627Z",
     "start_time": "2024-06-30T06:03:50.737398Z"
    }
   },
   "source": [
    "# Create Coils\n",
    "geom[\"coils\"] = {\n",
    "    \"VF1_U\": {\n",
    "        \"rc\": 0.15,\n",
    "        \"zc\": 0.35,\n",
    "        \"w\": 0.01905,\n",
    "        \"h\": 0.060325,\n",
    "        \"nturns\": 1\n",
    "    },\n",
    "    \"VF1_L\": {\n",
    "        \"rc\": 0.15,\n",
    "        \"zc\": -0.35,\n",
    "        \"w\": 0.01905,\n",
    "        \"h\": 0.060325,\n",
    "        \"nturns\": 1\n",
    "    },\n",
    "    \"VF2_U\": {\n",
    "        \"rc\": 0.30,\n",
    "        \"zc\": 0.275,\n",
    "        \"w\": 0.01905,\n",
    "        \"h\": 0.060325,\n",
    "        \"nturns\": 1\n",
    "    },\n",
    "    \"VF2_L\": {\n",
    "        \"rc\": 0.30,\n",
    "        \"zc\": -0.275,\n",
    "        \"w\": 0.01905,\n",
    "        \"h\": 0.060325,\n",
    "        \"nturns\": 1\n",
    "    },\n",
    "    \"VF3_U\": {\n",
    "        \"rc\": 0.45,\n",
    "        \"zc\": 0.10,\n",
    "        \"w\": 0.01905,\n",
    "        \"h\": 0.060325,\n",
    "        \"nturns\": 1\n",
    "    },\n",
    "    \"VF3_L\": {\n",
    "        \"rc\": 0.45,\n",
    "        \"zc\": -0.10,\n",
    "        \"w\": 0.01905,\n",
    "        \"h\": 0.060325,\n",
    "        \"nturns\": 1\n",
    "    },\n",
    "}"
   ],
   "outputs": [],
   "execution_count": 20
  },
  {
   "cell_type": "code",
   "id": "970e0c6f5bb4f4a6",
   "metadata": {
    "ExecuteTime": {
     "end_time": "2024-06-30T06:03:51.315771Z",
     "start_time": "2024-06-30T06:03:51.309786Z"
    }
   },
   "source": [
    "# Create a G-S domain\n",
    "gs_mesh = gs_Domain()\n",
    "\n",
    "# Define region information for mesh\n",
    "gs_mesh.define_region('air',vac_dx,'boundary')        # Define the bounding region\n",
    "gs_mesh.define_region('plasma',plasma_dx,'plasma')    # Define the plasma region and resolution\n",
    "gs_mesh.define_region('vacuum',vac_dx,'vacuum')       # Define the vacuum inside the VV\n",
    "gs_mesh.define_region('shell',vv_dx,'conductor',eta=geom['vv']['eta'])  # Define the shells\n",
    "gs_mesh.define_region('vv',vv_dx,'conductor',eta=geom['vv']['eta'])      # Define the VV\n",
    "\n",
    "# Define each of the PF coils\n",
    "for key, coil in geom['coils'].items():\n",
    "    gs_mesh.define_region(key,coil_dx,'coil',nTurns=coil['nturns'],coil_set=key[:2])"
   ],
   "outputs": [],
   "execution_count": 21
  },
  {
   "cell_type": "code",
   "id": "c758e26151500b2b",
   "metadata": {
    "ExecuteTime": {
     "end_time": "2024-06-30T06:03:51.901567Z",
     "start_time": "2024-06-30T06:03:51.893781Z"
    }
   },
   "source": [
    "# Define geometry\n",
    "gs_mesh.add_polygon(geom['limiter'][:-1], 'plasma', parent_name='vacuum')\n",
    "gs_mesh.add_polygon(geom['vv']['shell_cntr'], 'shell', parent_name='vacuum')\n",
    "gs_mesh.add_annulus(geom['vv']['vv_inner_cntr'], 'vacuum', geom['vv']['vv_outer_cntr'], 'vv', parent_name='air')\n",
    "\n",
    "# Define the shape of the PF coils\n",
    "for key, coil in geom['coils'].items():\n",
    "    gs_mesh.add_rectangle(coil['rc'], coil['zc'], coil['w'], coil['h'], key, parent_name='air')\n",
    "    "
   ],
   "outputs": [],
   "execution_count": 22
  },
  {
   "cell_type": "code",
   "id": "1d6ef46a836d9106",
   "metadata": {
    "ExecuteTime": {
     "end_time": "2024-06-30T06:03:52.743626Z",
     "start_time": "2024-06-30T06:03:52.397944Z"
    }
   },
   "source": [
    "fig, ax = plt.subplots(1, 1, figsize=(4, 4), constrained_layout=True)\n",
    "gs_mesh.plot_topology(fig, ax)"
   ],
   "outputs": [
    {
     "data": {
      "text/plain": [
       "<Figure size 400x400 with 1 Axes>"
      ],
      "image/png": "[encoded data removed]"
     },
     "metadata": {},
     "output_type": "display_data"
    }
   ],
   "execution_count": 23
  },
  {
   "cell_type": "code",
   "id": "197d1303765d36ad",
   "metadata": {
    "ExecuteTime": {
     "end_time": "2024-06-30T06:03:53.074558Z",
     "start_time": "2024-06-30T06:03:53.069113Z"
    }
   },
   "source": [
    "# Save geom\n",
    "with open(\"mesh.json\", \"w\") as mesh:\n",
    "    json.dump(geom, mesh)"
   ],
   "outputs": [],
   "execution_count": 24
  },
  {
   "cell_type": "code",
   "id": "167d0946dac33b71",
   "metadata": {
    "ExecuteTime": {
     "end_time": "2024-06-30T06:03:54.391965Z",
     "start_time": "2024-06-30T06:03:53.581946Z"
    }
   },
   "source": [
    "mesh_pts, mesh_lc, mesh_reg = gs_mesh.build_mesh()\n",
    "coil_dict = gs_mesh.get_coils()\n",
    "cond_dict = gs_mesh.get_conductors()"
   ],
   "outputs": [
    {
     "name": "stdout",
     "output_type": "stream",
     "text": [
      "Assembling regions:\n",
      "  # of unique points    = 204\n",
      "  # of unique segments  = 32\n",
      "Generating mesh:\n",
      "  # of points  = 1145\n",
      "  # of cells   = 2240\n",
      "  # of regions = 11\n"
     ]
    }
   ],
   "execution_count": 25
  },
  {
   "cell_type": "code",
   "id": "7d11e1e1443c8f17",
   "metadata": {
    "ExecuteTime": {
     "end_time": "2024-06-30T06:03:59.093274Z",
     "start_time": "2024-06-30T06:03:59.088279Z"
    }
   },
   "source": [
    "save_gs_mesh(mesh_pts,mesh_lc,mesh_reg,coil_dict,cond_dict,'mesh.h5')"
   ],
   "outputs": [],
   "execution_count": 27
  },
  {
   "cell_type": "markdown",
   "id": "7600fa8c83e60812",
   "metadata": {},
   "source": [
    "# Compute Equilibria"
   ]
  },
  {
   "cell_type": "code",
   "id": "4ee251eacc1cbcf6",
   "metadata": {
    "ExecuteTime": {
     "end_time": "2024-06-30T07:19:21.611611Z",
     "start_time": "2024-06-30T07:19:21.605013Z"
    }
   },
   "source": [
    "mygs = TokaMaker()"
   ],
   "outputs": [
    {
     "name": "stdout",
     "output_type": "stream",
     "text": [
      "#----------------------------------------------\n",
      "Open FUSION Toolkit Initialized\n",
      "Development branch:   main\n",
      "Revision id:          aba6d8f\n",
      "Parallelization Info:\n",
      "  Not compiled with MPI\n",
      "  # of OpenMP threads =    2\n",
      "Fortran input file    = oftpyin                                                                         \n",
      "XML input file        = none                                                                            \n",
      "Integer Precisions    =    4   8\n",
      "Float Precisions      =    4   8  10\n",
      "Complex Precisions    =    4   8\n",
      "LA backend            = native\n",
      "#----------------------------------------------\n",
      "\n"
     ]
    }
   ],
   "execution_count": 6
  },
  {
   "cell_type": "code",
   "id": "75b875c855daf2d0",
   "metadata": {
    "ExecuteTime": {
     "end_time": "2024-06-30T07:19:22.643402Z",
     "start_time": "2024-06-30T07:19:22.329746Z"
    }
   },
   "source": [
    "mesh_pts,mesh_lc,mesh_reg,coil_dict,cond_dict = load_gs_mesh('mesh.h5')\n",
    "mygs.setup_mesh(mesh_pts, mesh_lc, mesh_reg)\n",
    "mygs.setup_regions(cond_dict=cond_dict,coil_dict=coil_dict)\n",
    "mygs.setup(order = 2, F0=0.125*0.28) # F0 = B0 * R0"
   ],
   "outputs": [
    {
     "name": "stdout",
     "output_type": "stream",
     "text": [
      "\n",
      "**** Generating surface grid level  1\n",
      "  Generating boundary domain linkage\n",
      "  Mesh statistics:\n",
      "    Area         =  5.031E-01\n",
      "    # of points  =    1145\n",
      "    # of edges   =    3384\n",
      "    # of cells   =    2240\n",
      "    # of boundary points =      48\n",
      "    # of boundary edges  =      48\n",
      "    # of boundary cells  =      48\n",
      "  Resolution statistics:\n",
      "    hmin =  6.224E-03\n",
      "    hrms =  2.442E-02\n",
      "    hmax =  7.711E-02\n",
      "  Surface grounded at vertex     173\n",
      "\n",
      "\n",
      "**** Creating Lagrange FE space\n",
      "  Order  =    2\n",
      "  Minlev =   -1\n",
      "\n",
      " Computing flux BC matrix \n",
      " Inverting real matrix\n",
      "   Time =    4.5624700000000001E-004\n"
     ]
    }
   ],
   "execution_count": 7
  },
  {
   "cell_type": "code",
   "id": "d74970dfe4d62deb",
   "metadata": {
    "ExecuteTime": {
     "end_time": "2024-06-30T06:21:04.568468Z",
     "start_time": "2024-06-30T06:21:04.562706Z"
    }
   },
   "source": [
    "# Need to check the bounds for this\n",
    "# coil_bounds = np.zeros((mygs.ncoils+1,2), dtype=np.float64)\n",
    "# for name, coil in mygs.coil_sets.items():\n",
    "#     if name.startswith('OH'):\n",
    "#         bounds = [-2.00E+04,2.00E+04]\n",
    "#     elif name.startswith('VF'):\n",
    "#         bounds = [-1.50E+04,4.20E+04]\n",
    "#     elif name.startswith('SH'):\n",
    "#         bounds = [-1.50E+04,1.50E+04]\n",
    "#     coil_bounds[coil['id'],:] = np.array(bounds)\n",
    "# \n",
    "# mygs.set_coil_bounds(coil_bounds)"
   ],
   "outputs": [],
   "execution_count": 7
  },
  {
   "cell_type": "code",
   "id": "48161911abe16661",
   "metadata": {
    "ExecuteTime": {
     "end_time": "2024-06-30T07:19:24.510859Z",
     "start_time": "2024-06-30T07:19:24.506670Z"
    }
   },
   "source": [
    "Ip_target = 10e3 # Amps\n",
    "\n",
    "mygs.set_targets(Ip=Ip_target, Ip_ratio=0.02)"
   ],
   "outputs": [],
   "execution_count": 8
  },
  {
   "cell_type": "code",
   "id": "6367714af5b8438f",
   "metadata": {
    "ExecuteTime": {
     "end_time": "2024-06-30T07:19:25.334710Z",
     "start_time": "2024-06-30T07:19:25.329554Z"
    }
   },
   "source": [
    "isoflux_pts = np.array([\n",
    "    [0.3, 0.24],\n",
    "    [0.3, -0.24]\n",
    "])\n",
    "\n",
    "mygs.set_isoflux(isoflux_pts)"
   ],
   "outputs": [],
   "execution_count": 9
  },
  {
   "metadata": {
    "ExecuteTime": {
     "end_time": "2024-06-30T07:19:26.054021Z",
     "start_time": "2024-06-30T07:19:26.047189Z"
    }
   },
   "cell_type": "code",
   "source": [
    "coil_reg_mat = np.eye(mygs.ncoils+1, dtype=np.float64)\n",
    "coil_reg_weights = 1.E-1*np.ones((mygs.ncoils+1,), dtype=np.float64)\n",
    "coil_reg_targets = np.zeros((mygs.ncoils+1,), dtype=np.float64)\n",
    "\n",
    "# Force shaping coil to 0\n",
    "# coil_reg_weights[mygs.coil_sets['SH']['id']] = 1.E3\n",
    "\n",
    "# Set OH current to -8 kA\n",
    "# coil_reg_targets[mygs.coil_sets['OH']['id']] = -8.E3\n",
    "# coil_reg_weights[mygs.coil_sets['OH']['id']] = 1.E3\n",
    "\n",
    "# Pass regularization terms to TokaMaker\n",
    "mygs.set_coil_reg(coil_reg_mat, reg_weights=coil_reg_weights, reg_targets=coil_reg_targets)"
   ],
   "id": "67f7a223c21d14d6",
   "outputs": [],
   "execution_count": 10
  },
  {
   "metadata": {
    "ExecuteTime": {
     "end_time": "2024-06-30T07:19:27.804248Z",
     "start_time": "2024-06-30T07:19:27.221796Z"
    }
   },
   "cell_type": "code",
   "source": [
    "# Set profiles\n",
    "ffp_prof = create_power_flux_fun(40,1.5,2.0)\n",
    "pp_prof = create_power_flux_fun(40,4.0,1.0)\n",
    "\n",
    "fig, ax = plt.subplots(2,1,sharex=True)\n",
    "# Plot F*F'\n",
    "ax[0].plot(ffp_prof['x'],ffp_prof['y'])\n",
    "ax[0].set_ylabel(\"FF'\")\n",
    "# Plot P'\n",
    "ax[1].plot(pp_prof['x'],pp_prof['y'])\n",
    "ax[1].set_ylabel(\"P'\")\n",
    "_ = ax[-1].set_xlabel(r\"$\\hat{\\psi}$\")\n",
    "\n",
    "mygs.set_profiles(ffp_prof=ffp_prof,pp_prof=pp_prof)"
   ],
   "id": "b10a08595d03b49e",
   "outputs": [
    {
     "data": {
      "text/plain": [
       "<Figure size 600x600 with 2 Axes>"
      ],
      "image/png": "[encoded data removed]"
     },
     "metadata": {},
     "output_type": "display_data"
    }
   ],
   "execution_count": 11
  },
  {
   "metadata": {
    "ExecuteTime": {
     "end_time": "2024-06-30T07:19:38.848566Z",
     "start_time": "2024-06-30T07:19:38.841532Z"
    }
   },
   "cell_type": "code",
   "source": [
    "R0 = 0.28\n",
    "Z0 = 0.0\n",
    "a = 0.12\n",
    "kappa = 1.2\n",
    "delta = 0.05\n",
    "err_flag = mygs.init_psi(R0, Z0, a, kappa, delta)\n",
    "err_flag = mygs.solve()"
   ],
   "id": "5607cd19a9e9ee17",
   "outputs": [
    {
     "name": "stdout",
     "output_type": "stream",
     "text": [
      "Starting non-linear GS solver\n",
      " DGETRF           1\n",
      " Timing:   1.7819715005316539E-002\n",
      "   Source:     6.8886299777659588E-004\n",
      "   Solve:      1.4981553002144210E-002\n",
      "   Boundary:   0.0000000000000000     \n",
      "   Other:      2.1492990053957328E-003\n"
     ]
    }
   ],
   "execution_count": 21
  },
  {
   "metadata": {},
   "cell_type": "markdown",
   "source": "there is an error with some matrix multiplication ",
   "id": "bc437bba9f933095"
  },
  {
   "metadata": {
    "ExecuteTime": {
     "end_time": "2024-06-30T07:19:40.122489Z",
     "start_time": "2024-06-30T07:19:39.787195Z"
    }
   },
   "cell_type": "code",
   "source": [
    "fig, ax = plt.subplots(1,1)\n",
    "mygs.plot_machine(fig,ax,coil_colormap='seismic',coil_symmap=True,coil_scale=1.0E-3,coil_clabel=r'$I_{coil}$ [kA]')\n",
    "mygs.plot_psi(fig,ax,xpoint_color='k',vacuum_nlevels=8)\n",
    "mygs.plot_constraints(fig,ax,isoflux_color='tab:red',isoflux_marker='.')"
   ],
   "id": "72f2c663f6faa56b",
   "outputs": [
    {
     "ename": "ValueError",
     "evalue": "zero-size array to reduction operation maximum which has no identity",
     "output_type": "error",
     "traceback": [
      "\u001B[0;31m---------------------------------------------------------------------------\u001B[0m",
      "\u001B[0;31mValueError\u001B[0m                                Traceback (most recent call last)",
      "Cell \u001B[0;32mIn[22], line 2\u001B[0m\n\u001B[1;32m      1\u001B[0m fig, ax \u001B[38;5;241m=\u001B[39m plt\u001B[38;5;241m.\u001B[39msubplots(\u001B[38;5;241m1\u001B[39m,\u001B[38;5;241m1\u001B[39m)\n\u001B[0;32m----> 2\u001B[0m \u001B[43mmygs\u001B[49m\u001B[38;5;241;43m.\u001B[39;49m\u001B[43mplot_machine\u001B[49m\u001B[43m(\u001B[49m\u001B[43mfig\u001B[49m\u001B[43m,\u001B[49m\u001B[43max\u001B[49m\u001B[43m,\u001B[49m\u001B[43mcoil_colormap\u001B[49m\u001B[38;5;241;43m=\u001B[39;49m\u001B[38;5;124;43m'\u001B[39;49m\u001B[38;5;124;43mseismic\u001B[39;49m\u001B[38;5;124;43m'\u001B[39;49m\u001B[43m,\u001B[49m\u001B[43mcoil_symmap\u001B[49m\u001B[38;5;241;43m=\u001B[39;49m\u001B[38;5;28;43;01mTrue\u001B[39;49;00m\u001B[43m,\u001B[49m\u001B[43mcoil_scale\u001B[49m\u001B[38;5;241;43m=\u001B[39;49m\u001B[38;5;241;43m1.0E-3\u001B[39;49m\u001B[43m,\u001B[49m\u001B[43mcoil_clabel\u001B[49m\u001B[38;5;241;43m=\u001B[39;49m\u001B[38;5;124;43mr\u001B[39;49m\u001B[38;5;124;43m'\u001B[39;49m\u001B[38;5;124;43m$I_\u001B[39;49m\u001B[38;5;132;43;01m{coil}\u001B[39;49;00m\u001B[38;5;124;43m$ [kA]\u001B[39;49m\u001B[38;5;124;43m'\u001B[39;49m\u001B[43m)\u001B[49m\n\u001B[1;32m      3\u001B[0m mygs\u001B[38;5;241m.\u001B[39mplot_psi(fig,ax,xpoint_color\u001B[38;5;241m=\u001B[39m\u001B[38;5;124m'\u001B[39m\u001B[38;5;124mk\u001B[39m\u001B[38;5;124m'\u001B[39m,vacuum_nlevels\u001B[38;5;241m=\u001B[39m\u001B[38;5;241m8\u001B[39m)\n\u001B[1;32m      4\u001B[0m mygs\u001B[38;5;241m.\u001B[39mplot_constraints(fig,ax,isoflux_color\u001B[38;5;241m=\u001B[39m\u001B[38;5;124m'\u001B[39m\u001B[38;5;124mtab:red\u001B[39m\u001B[38;5;124m'\u001B[39m,isoflux_marker\u001B[38;5;241m=\u001B[39m\u001B[38;5;124m'\u001B[39m\u001B[38;5;124m.\u001B[39m\u001B[38;5;124m'\u001B[39m)\n",
      "File \u001B[0;32m~/AtomCraft/install_release/python/OpenFUSIONToolkit/TokaMaker/_core.py:1050\u001B[0m, in \u001B[0;36mTokaMaker.plot_machine\u001B[0;34m(self, fig, ax, vacuum_color, cond_color, limiter_color, coil_color, coil_colormap, coil_symmap, coil_scale, coil_clabel, colorbar)\u001B[0m\n\u001B[1;32m   1048\u001B[0m \u001B[38;5;28;01mfor\u001B[39;00m _, cond_reg \u001B[38;5;129;01min\u001B[39;00m \u001B[38;5;28mself\u001B[39m\u001B[38;5;241m.\u001B[39m_cond_dict\u001B[38;5;241m.\u001B[39mitems():\n\u001B[1;32m   1049\u001B[0m     mask_tmp \u001B[38;5;241m=\u001B[39m (\u001B[38;5;28mself\u001B[39m\u001B[38;5;241m.\u001B[39mreg \u001B[38;5;241m==\u001B[39m cond_reg[\u001B[38;5;124m'\u001B[39m\u001B[38;5;124mreg_id\u001B[39m\u001B[38;5;124m'\u001B[39m])\n\u001B[0;32m-> 1050\u001B[0m     \u001B[43max\u001B[49m\u001B[38;5;241;43m.\u001B[39;49m\u001B[43mtricontourf\u001B[49m\u001B[43m(\u001B[49m\u001B[38;5;28;43mself\u001B[39;49m\u001B[38;5;241;43m.\u001B[39;49m\u001B[43mr\u001B[49m\u001B[43m[\u001B[49m\u001B[43m:\u001B[49m\u001B[43m,\u001B[49m\u001B[38;5;241;43m0\u001B[39;49m\u001B[43m]\u001B[49m\u001B[43m,\u001B[49m\u001B[43m \u001B[49m\u001B[38;5;28;43mself\u001B[39;49m\u001B[38;5;241;43m.\u001B[39;49m\u001B[43mr\u001B[49m\u001B[43m[\u001B[49m\u001B[43m:\u001B[49m\u001B[43m,\u001B[49m\u001B[38;5;241;43m1\u001B[39;49m\u001B[43m]\u001B[49m\u001B[43m,\u001B[49m\u001B[43m \u001B[49m\u001B[38;5;28;43mself\u001B[39;49m\u001B[38;5;241;43m.\u001B[39;49m\u001B[43mlc\u001B[49m\u001B[43m[\u001B[49m\u001B[43mmask_tmp\u001B[49m\u001B[43m,\u001B[49m\u001B[43m:\u001B[49m\u001B[43m]\u001B[49m\u001B[43m,\u001B[49m\u001B[43m \u001B[49m\u001B[43mmask_vals\u001B[49m\u001B[43m,\u001B[49m\u001B[43m \u001B[49m\u001B[43mcolors\u001B[49m\u001B[38;5;241;43m=\u001B[39;49m\u001B[43mcond_color\u001B[49m\u001B[43m,\u001B[49m\u001B[43m \u001B[49m\u001B[43malpha\u001B[49m\u001B[38;5;241;43m=\u001B[39;49m\u001B[38;5;241;43m1\u001B[39;49m\u001B[43m)\u001B[49m\n\u001B[1;32m   1051\u001B[0m \u001B[38;5;66;03m# Show limiter\u001B[39;00m\n\u001B[1;32m   1052\u001B[0m \u001B[38;5;28;01mif\u001B[39;00m limiter_color \u001B[38;5;129;01mand\u001B[39;00m (\u001B[38;5;28mself\u001B[39m\u001B[38;5;241m.\u001B[39mlim_contour \u001B[38;5;129;01mis\u001B[39;00m \u001B[38;5;129;01mnot\u001B[39;00m \u001B[38;5;28;01mNone\u001B[39;00m):\n",
      "File \u001B[0;32m~/.local/lib/python3.10/site-packages/matplotlib/tri/_tricontour.py:272\u001B[0m, in \u001B[0;36mtricontourf\u001B[0;34m(ax, *args, **kwargs)\u001B[0m\n\u001B[1;32m    252\u001B[0m \u001B[38;5;124;03m\"\"\"\u001B[39;00m\n\u001B[1;32m    253\u001B[0m \u001B[38;5;124;03m%(_tricontour_doc)s\u001B[39;00m\n\u001B[1;32m    254\u001B[0m \n\u001B[0;32m   (...)\u001B[0m\n\u001B[1;32m    269\u001B[0m \u001B[38;5;124;03mincludes the lowest value).\u001B[39;00m\n\u001B[1;32m    270\u001B[0m \u001B[38;5;124;03m\"\"\"\u001B[39;00m\n\u001B[1;32m    271\u001B[0m kwargs[\u001B[38;5;124m'\u001B[39m\u001B[38;5;124mfilled\u001B[39m\u001B[38;5;124m'\u001B[39m] \u001B[38;5;241m=\u001B[39m \u001B[38;5;28;01mTrue\u001B[39;00m\n\u001B[0;32m--> 272\u001B[0m \u001B[38;5;28;01mreturn\u001B[39;00m \u001B[43mTriContourSet\u001B[49m\u001B[43m(\u001B[49m\u001B[43max\u001B[49m\u001B[43m,\u001B[49m\u001B[43m \u001B[49m\u001B[38;5;241;43m*\u001B[39;49m\u001B[43margs\u001B[49m\u001B[43m,\u001B[49m\u001B[43m \u001B[49m\u001B[38;5;241;43m*\u001B[39;49m\u001B[38;5;241;43m*\u001B[39;49m\u001B[43mkwargs\u001B[49m\u001B[43m)\u001B[49m\n",
      "File \u001B[0;32m~/.local/lib/python3.10/site-packages/matplotlib/tri/_tricontour.py:29\u001B[0m, in \u001B[0;36mTriContourSet.__init__\u001B[0;34m(self, ax, *args, **kwargs)\u001B[0m\n\u001B[1;32m     19\u001B[0m \u001B[38;5;28;01mdef\u001B[39;00m \u001B[38;5;21m__init__\u001B[39m(\u001B[38;5;28mself\u001B[39m, ax, \u001B[38;5;241m*\u001B[39margs, \u001B[38;5;241m*\u001B[39m\u001B[38;5;241m*\u001B[39mkwargs):\n\u001B[1;32m     20\u001B[0m     \u001B[38;5;124;03m\"\"\"\u001B[39;00m\n\u001B[1;32m     21\u001B[0m \u001B[38;5;124;03m    Draw triangular grid contour lines or filled regions,\u001B[39;00m\n\u001B[1;32m     22\u001B[0m \u001B[38;5;124;03m    depending on whether keyword arg *filled* is False\u001B[39;00m\n\u001B[0;32m   (...)\u001B[0m\n\u001B[1;32m     27\u001B[0m \u001B[38;5;124;03m    are described in the docstring of `~.Axes.tricontour`.\u001B[39;00m\n\u001B[1;32m     28\u001B[0m \u001B[38;5;124;03m    \"\"\"\u001B[39;00m\n\u001B[0;32m---> 29\u001B[0m     \u001B[38;5;28;43msuper\u001B[39;49m\u001B[43m(\u001B[49m\u001B[43m)\u001B[49m\u001B[38;5;241;43m.\u001B[39;49m\u001B[38;5;21;43m__init__\u001B[39;49m\u001B[43m(\u001B[49m\u001B[43max\u001B[49m\u001B[43m,\u001B[49m\u001B[43m \u001B[49m\u001B[38;5;241;43m*\u001B[39;49m\u001B[43margs\u001B[49m\u001B[43m,\u001B[49m\u001B[43m \u001B[49m\u001B[38;5;241;43m*\u001B[39;49m\u001B[38;5;241;43m*\u001B[39;49m\u001B[43mkwargs\u001B[49m\u001B[43m)\u001B[49m\n",
      "File \u001B[0;32m~/.local/lib/python3.10/site-packages/matplotlib/contour.py:769\u001B[0m, in \u001B[0;36mContourSet.__init__\u001B[0;34m(self, ax, levels, filled, linewidths, linestyles, hatches, alpha, origin, extent, cmap, colors, norm, vmin, vmax, extend, antialiased, nchunk, locator, transform, negative_linestyles, *args, **kwargs)\u001B[0m\n\u001B[1;32m    765\u001B[0m \u001B[38;5;28;01mif\u001B[39;00m \u001B[38;5;28mself\u001B[39m\u001B[38;5;241m.\u001B[39mnegative_linestyles \u001B[38;5;129;01mis\u001B[39;00m \u001B[38;5;28;01mNone\u001B[39;00m:\n\u001B[1;32m    766\u001B[0m     \u001B[38;5;28mself\u001B[39m\u001B[38;5;241m.\u001B[39mnegative_linestyles \u001B[38;5;241m=\u001B[39m \\\n\u001B[1;32m    767\u001B[0m         mpl\u001B[38;5;241m.\u001B[39mrcParams[\u001B[38;5;124m'\u001B[39m\u001B[38;5;124mcontour.negative_linestyle\u001B[39m\u001B[38;5;124m'\u001B[39m]\n\u001B[0;32m--> 769\u001B[0m kwargs \u001B[38;5;241m=\u001B[39m \u001B[38;5;28;43mself\u001B[39;49m\u001B[38;5;241;43m.\u001B[39;49m\u001B[43m_process_args\u001B[49m\u001B[43m(\u001B[49m\u001B[38;5;241;43m*\u001B[39;49m\u001B[43margs\u001B[49m\u001B[43m,\u001B[49m\u001B[43m \u001B[49m\u001B[38;5;241;43m*\u001B[39;49m\u001B[38;5;241;43m*\u001B[39;49m\u001B[43mkwargs\u001B[49m\u001B[43m)\u001B[49m\n\u001B[1;32m    770\u001B[0m \u001B[38;5;28mself\u001B[39m\u001B[38;5;241m.\u001B[39m_process_levels()\n\u001B[1;32m    772\u001B[0m \u001B[38;5;28mself\u001B[39m\u001B[38;5;241m.\u001B[39m_extend_min \u001B[38;5;241m=\u001B[39m \u001B[38;5;28mself\u001B[39m\u001B[38;5;241m.\u001B[39mextend \u001B[38;5;129;01min\u001B[39;00m [\u001B[38;5;124m'\u001B[39m\u001B[38;5;124mmin\u001B[39m\u001B[38;5;124m'\u001B[39m, \u001B[38;5;124m'\u001B[39m\u001B[38;5;124mboth\u001B[39m\u001B[38;5;124m'\u001B[39m]\n",
      "File \u001B[0;32m~/.local/lib/python3.10/site-packages/matplotlib/tri/_tricontour.py:45\u001B[0m, in \u001B[0;36mTriContourSet._process_args\u001B[0;34m(self, *args, **kwargs)\u001B[0m\n\u001B[1;32m     43\u001B[0m \u001B[38;5;28;01melse\u001B[39;00m:\n\u001B[1;32m     44\u001B[0m     \u001B[38;5;28;01mfrom\u001B[39;00m \u001B[38;5;21;01mmatplotlib\u001B[39;00m \u001B[38;5;28;01mimport\u001B[39;00m _tri\n\u001B[0;32m---> 45\u001B[0m     tri, z \u001B[38;5;241m=\u001B[39m \u001B[38;5;28;43mself\u001B[39;49m\u001B[38;5;241;43m.\u001B[39;49m\u001B[43m_contour_args\u001B[49m\u001B[43m(\u001B[49m\u001B[43margs\u001B[49m\u001B[43m,\u001B[49m\u001B[43m \u001B[49m\u001B[43mkwargs\u001B[49m\u001B[43m)\u001B[49m\n\u001B[1;32m     46\u001B[0m     C \u001B[38;5;241m=\u001B[39m _tri\u001B[38;5;241m.\u001B[39mTriContourGenerator(tri\u001B[38;5;241m.\u001B[39mget_cpp_triangulation(), z)\n\u001B[1;32m     47\u001B[0m     \u001B[38;5;28mself\u001B[39m\u001B[38;5;241m.\u001B[39m_mins \u001B[38;5;241m=\u001B[39m [tri\u001B[38;5;241m.\u001B[39mx\u001B[38;5;241m.\u001B[39mmin(), tri\u001B[38;5;241m.\u001B[39my\u001B[38;5;241m.\u001B[39mmin()]\n",
      "File \u001B[0;32m~/.local/lib/python3.10/site-packages/matplotlib/tri/_tricontour.py:54\u001B[0m, in \u001B[0;36mTriContourSet._contour_args\u001B[0;34m(self, args, kwargs)\u001B[0m\n\u001B[1;32m     53\u001B[0m \u001B[38;5;28;01mdef\u001B[39;00m \u001B[38;5;21m_contour_args\u001B[39m(\u001B[38;5;28mself\u001B[39m, args, kwargs):\n\u001B[0;32m---> 54\u001B[0m     tri, args, kwargs \u001B[38;5;241m=\u001B[39m \u001B[43mTriangulation\u001B[49m\u001B[38;5;241;43m.\u001B[39;49m\u001B[43mget_from_args_and_kwargs\u001B[49m\u001B[43m(\u001B[49m\u001B[38;5;241;43m*\u001B[39;49m\u001B[43margs\u001B[49m\u001B[43m,\u001B[49m\n\u001B[1;32m     55\u001B[0m \u001B[43m                                                               \u001B[49m\u001B[38;5;241;43m*\u001B[39;49m\u001B[38;5;241;43m*\u001B[39;49m\u001B[43mkwargs\u001B[49m\u001B[43m)\u001B[49m\n\u001B[1;32m     56\u001B[0m     z, \u001B[38;5;241m*\u001B[39margs \u001B[38;5;241m=\u001B[39m args\n\u001B[1;32m     57\u001B[0m     z \u001B[38;5;241m=\u001B[39m np\u001B[38;5;241m.\u001B[39mma\u001B[38;5;241m.\u001B[39masarray(z)\n",
      "File \u001B[0;32m~/.local/lib/python3.10/site-packages/matplotlib/tri/_triangulation.py:165\u001B[0m, in \u001B[0;36mTriangulation.get_from_args_and_kwargs\u001B[0;34m(*args, **kwargs)\u001B[0m\n\u001B[1;32m    162\u001B[0m \u001B[38;5;28;01melse\u001B[39;00m:\n\u001B[1;32m    163\u001B[0m     x, y, triangles, mask, args, kwargs \u001B[38;5;241m=\u001B[39m \\\n\u001B[1;32m    164\u001B[0m         Triangulation\u001B[38;5;241m.\u001B[39m_extract_triangulation_params(args, kwargs)\n\u001B[0;32m--> 165\u001B[0m     triangulation \u001B[38;5;241m=\u001B[39m \u001B[43mTriangulation\u001B[49m\u001B[43m(\u001B[49m\u001B[43mx\u001B[49m\u001B[43m,\u001B[49m\u001B[43m \u001B[49m\u001B[43my\u001B[49m\u001B[43m,\u001B[49m\u001B[43m \u001B[49m\u001B[43mtriangles\u001B[49m\u001B[43m,\u001B[49m\u001B[43m \u001B[49m\u001B[43mmask\u001B[49m\u001B[43m)\u001B[49m\n\u001B[1;32m    166\u001B[0m \u001B[38;5;28;01mreturn\u001B[39;00m triangulation, args, kwargs\n",
      "File \u001B[0;32m~/.local/lib/python3.10/site-packages/matplotlib/tri/_triangulation.py:72\u001B[0m, in \u001B[0;36mTriangulation.__init__\u001B[0;34m(self, x, y, triangles, mask)\u001B[0m\n\u001B[1;32m     68\u001B[0m \u001B[38;5;28;01mif\u001B[39;00m \u001B[38;5;28mself\u001B[39m\u001B[38;5;241m.\u001B[39mtriangles\u001B[38;5;241m.\u001B[39mndim \u001B[38;5;241m!=\u001B[39m \u001B[38;5;241m2\u001B[39m \u001B[38;5;129;01mor\u001B[39;00m \u001B[38;5;28mself\u001B[39m\u001B[38;5;241m.\u001B[39mtriangles\u001B[38;5;241m.\u001B[39mshape[\u001B[38;5;241m1\u001B[39m] \u001B[38;5;241m!=\u001B[39m \u001B[38;5;241m3\u001B[39m:\n\u001B[1;32m     69\u001B[0m     \u001B[38;5;28;01mraise\u001B[39;00m \u001B[38;5;167;01mValueError\u001B[39;00m(\n\u001B[1;32m     70\u001B[0m         \u001B[38;5;124m'\u001B[39m\u001B[38;5;124mtriangles must be a (N, 3) int array, but found shape \u001B[39m\u001B[38;5;124m'\u001B[39m\n\u001B[1;32m     71\u001B[0m         \u001B[38;5;124mf\u001B[39m\u001B[38;5;124m'\u001B[39m\u001B[38;5;132;01m{\u001B[39;00m\u001B[38;5;28mself\u001B[39m\u001B[38;5;241m.\u001B[39mtriangles\u001B[38;5;241m.\u001B[39mshape\u001B[38;5;132;01m!r}\u001B[39;00m\u001B[38;5;124m'\u001B[39m)\n\u001B[0;32m---> 72\u001B[0m \u001B[38;5;28;01mif\u001B[39;00m \u001B[38;5;28;43mself\u001B[39;49m\u001B[38;5;241;43m.\u001B[39;49m\u001B[43mtriangles\u001B[49m\u001B[38;5;241;43m.\u001B[39;49m\u001B[43mmax\u001B[49m\u001B[43m(\u001B[49m\u001B[43m)\u001B[49m \u001B[38;5;241m>\u001B[39m\u001B[38;5;241m=\u001B[39m \u001B[38;5;28mlen\u001B[39m(\u001B[38;5;28mself\u001B[39m\u001B[38;5;241m.\u001B[39mx):\n\u001B[1;32m     73\u001B[0m     \u001B[38;5;28;01mraise\u001B[39;00m \u001B[38;5;167;01mValueError\u001B[39;00m(\n\u001B[1;32m     74\u001B[0m         \u001B[38;5;124m'\u001B[39m\u001B[38;5;124mtriangles are indices into the points and must be in the \u001B[39m\u001B[38;5;124m'\u001B[39m\n\u001B[1;32m     75\u001B[0m         \u001B[38;5;124mf\u001B[39m\u001B[38;5;124m'\u001B[39m\u001B[38;5;124mrange 0 <= i < \u001B[39m\u001B[38;5;132;01m{\u001B[39;00m\u001B[38;5;28mlen\u001B[39m(\u001B[38;5;28mself\u001B[39m\u001B[38;5;241m.\u001B[39mx)\u001B[38;5;132;01m}\u001B[39;00m\u001B[38;5;124m but found value \u001B[39m\u001B[38;5;124m'\u001B[39m\n\u001B[1;32m     76\u001B[0m         \u001B[38;5;124mf\u001B[39m\u001B[38;5;124m'\u001B[39m\u001B[38;5;132;01m{\u001B[39;00m\u001B[38;5;28mself\u001B[39m\u001B[38;5;241m.\u001B[39mtriangles\u001B[38;5;241m.\u001B[39mmax()\u001B[38;5;132;01m}\u001B[39;00m\u001B[38;5;124m'\u001B[39m)\n\u001B[1;32m     77\u001B[0m \u001B[38;5;28;01mif\u001B[39;00m \u001B[38;5;28mself\u001B[39m\u001B[38;5;241m.\u001B[39mtriangles\u001B[38;5;241m.\u001B[39mmin() \u001B[38;5;241m<\u001B[39m \u001B[38;5;241m0\u001B[39m:\n",
      "File \u001B[0;32m~/.local/lib/python3.10/site-packages/numpy/core/_methods.py:40\u001B[0m, in \u001B[0;36m_amax\u001B[0;34m(a, axis, out, keepdims, initial, where)\u001B[0m\n\u001B[1;32m     38\u001B[0m \u001B[38;5;28;01mdef\u001B[39;00m \u001B[38;5;21m_amax\u001B[39m(a, axis\u001B[38;5;241m=\u001B[39m\u001B[38;5;28;01mNone\u001B[39;00m, out\u001B[38;5;241m=\u001B[39m\u001B[38;5;28;01mNone\u001B[39;00m, keepdims\u001B[38;5;241m=\u001B[39m\u001B[38;5;28;01mFalse\u001B[39;00m,\n\u001B[1;32m     39\u001B[0m           initial\u001B[38;5;241m=\u001B[39m_NoValue, where\u001B[38;5;241m=\u001B[39m\u001B[38;5;28;01mTrue\u001B[39;00m):\n\u001B[0;32m---> 40\u001B[0m     \u001B[38;5;28;01mreturn\u001B[39;00m \u001B[43mumr_maximum\u001B[49m\u001B[43m(\u001B[49m\u001B[43ma\u001B[49m\u001B[43m,\u001B[49m\u001B[43m \u001B[49m\u001B[43maxis\u001B[49m\u001B[43m,\u001B[49m\u001B[43m \u001B[49m\u001B[38;5;28;43;01mNone\u001B[39;49;00m\u001B[43m,\u001B[49m\u001B[43m \u001B[49m\u001B[43mout\u001B[49m\u001B[43m,\u001B[49m\u001B[43m \u001B[49m\u001B[43mkeepdims\u001B[49m\u001B[43m,\u001B[49m\u001B[43m \u001B[49m\u001B[43minitial\u001B[49m\u001B[43m,\u001B[49m\u001B[43m \u001B[49m\u001B[43mwhere\u001B[49m\u001B[43m)\u001B[49m\n",
      "\u001B[0;31mValueError\u001B[0m: zero-size array to reduction operation maximum which has no identity"
     ]
    },
    {
     "data": {
      "text/plain": [
       "<Figure size 600x600 with 1 Axes>"
      ],
      "image/png": "[encoded data removed]"
     },
     "metadata": {},
     "output_type": "display_data"
    }
   ],
   "execution_count": 22
  },
  {
   "metadata": {
    "ExecuteTime": {
     "end_time": "2024-06-30T07:19:41.098371Z",
     "start_time": "2024-06-30T07:19:40.894445Z"
    }
   },
   "cell_type": "code",
   "source": [
    "mygs.print_info()\n",
    " \n",
    "print()\n",
    "print(\"Coil Currents [kA]:\")\n",
    "coil_currents, _ = mygs.get_coil_currents()\n",
    "for key in mygs.coil_sets:\n",
    "    i = mygs.coil_sets[key]['id']\n",
    "    print('  {0:10} {1:10.2F}'.format(key+\":\",coil_currents[i]/1.E3))"
   ],
   "id": "12f25c7a2abe67cb",
   "outputs": [
    {
     "name": "stdout",
     "output_type": "stream",
     "text": [
      " DLSODE-  At T (=R1) and step size H (=R2), the                                  \n",
      "       corrector convergence failed repeatedly                                   \n",
      "       or with ABS(H) = HMIN                                                     \n",
      "      In above,  R1 =  0.0000000000000D+00   R2 =  0.2396844981071D-04\n",
      "           1  0.45050000000000001        0.0000000000000000        0.0000000000000000     \n",
      " DLSODE-  At T (=R1) and step size H (=R2), the                                  \n",
      "       corrector convergence failed repeatedly                                   \n",
      "       or with ABS(H) = HMIN                                                     \n",
      "      In above,  R1 =  0.0000000000000D+00   R2 =  0.2396844981071D-04\n",
      "           2  0.45050000000000001        0.0000000000000000        0.0000000000000000     \n",
      " DLSODE-  At T (=R1) and step size H (=R2), the                                  \n",
      "       corrector convergence failed repeatedly                                   \n",
      "       or with ABS(H) = HMIN                                                     \n",
      "      In above,  R1 =  0.0000000000000D+00   R2 =  0.2396844981071D-04\n",
      "           3  0.45050000000000001        0.0000000000000000        0.0000000000000000     \n"
     ]
    },
    {
     "name": "stderr",
     "output_type": "stream",
     "text": [
      "[    0] WARNING: gs_get_qprof: Trace did not complete\n",
      "[    0] WARNING: gs_get_qprof: Trace did not complete\n",
      "[    0] WARNING: gs_get_qprof: Trace did not complete\n"
     ]
    },
    {
     "ename": "ZeroDivisionError",
     "evalue": "float division by zero",
     "output_type": "error",
     "traceback": [
      "\u001B[0;31m---------------------------------------------------------------------------\u001B[0m",
      "\u001B[0;31mZeroDivisionError\u001B[0m                         Traceback (most recent call last)",
      "Cell \u001B[0;32mIn[23], line 1\u001B[0m\n\u001B[0;32m----> 1\u001B[0m \u001B[43mmygs\u001B[49m\u001B[38;5;241;43m.\u001B[39;49m\u001B[43mprint_info\u001B[49m\u001B[43m(\u001B[49m\u001B[43m)\u001B[49m\n\u001B[1;32m      3\u001B[0m \u001B[38;5;28mprint\u001B[39m()\n\u001B[1;32m      4\u001B[0m \u001B[38;5;28mprint\u001B[39m(\u001B[38;5;124m\"\u001B[39m\u001B[38;5;124mCoil Currents [kA]:\u001B[39m\u001B[38;5;124m\"\u001B[39m)\n",
      "File \u001B[0;32m~/AtomCraft/install_release/python/OpenFUSIONToolkit/TokaMaker/_core.py:620\u001B[0m, in \u001B[0;36mTokaMaker.print_info\u001B[0;34m(self, lcfs_pad, li_normalization)\u001B[0m\n\u001B[1;32m    614\u001B[0m \u001B[38;5;28;01mdef\u001B[39;00m \u001B[38;5;21mprint_info\u001B[39m(\u001B[38;5;28mself\u001B[39m,lcfs_pad\u001B[38;5;241m=\u001B[39m\u001B[38;5;241m0.01\u001B[39m,li_normalization\u001B[38;5;241m=\u001B[39m\u001B[38;5;124m'\u001B[39m\u001B[38;5;124mstd\u001B[39m\u001B[38;5;124m'\u001B[39m):\n\u001B[1;32m    615\u001B[0m     \u001B[38;5;124;03m'''! Print information (Ip, q, etc.) about current G-S equilbirium\u001B[39;00m\n\u001B[1;32m    616\u001B[0m \u001B[38;5;124;03m    \u001B[39;00m\n\u001B[1;32m    617\u001B[0m \u001B[38;5;124;03m    @param lcfs_pad Padding at LCFS for boundary calculations\u001B[39;00m\n\u001B[1;32m    618\u001B[0m \u001B[38;5;124;03m    @param li_normalization Form of normalized \\f$ l_i \\f$ ('std', 'ITER')\u001B[39;00m\n\u001B[1;32m    619\u001B[0m \u001B[38;5;124;03m    '''\u001B[39;00m\n\u001B[0;32m--> 620\u001B[0m     eq_stats \u001B[38;5;241m=\u001B[39m \u001B[38;5;28;43mself\u001B[39;49m\u001B[38;5;241;43m.\u001B[39;49m\u001B[43mget_stats\u001B[49m\u001B[43m(\u001B[49m\u001B[43mlcfs_pad\u001B[49m\u001B[38;5;241;43m=\u001B[39;49m\u001B[43mlcfs_pad\u001B[49m\u001B[43m,\u001B[49m\u001B[43mli_normalization\u001B[49m\u001B[38;5;241;43m=\u001B[39;49m\u001B[43mli_normalization\u001B[49m\u001B[43m)\u001B[49m\n\u001B[1;32m    621\u001B[0m     \u001B[38;5;28mprint\u001B[39m(\u001B[38;5;124m\"\u001B[39m\u001B[38;5;124mEquilibrium Statistics:\u001B[39m\u001B[38;5;124m\"\u001B[39m)\n\u001B[1;32m    622\u001B[0m     \u001B[38;5;28;01mif\u001B[39;00m \u001B[38;5;28mself\u001B[39m\u001B[38;5;241m.\u001B[39mdiverted:\n",
      "File \u001B[0;32m~/AtomCraft/install_release/python/OpenFUSIONToolkit/TokaMaker/_core.py:585\u001B[0m, in \u001B[0;36mTokaMaker.get_stats\u001B[0;34m(self, lcfs_pad, li_normalization)\u001B[0m\n\u001B[1;32m    583\u001B[0m \u001B[38;5;66;03m# Compute normalized inductance\u001B[39;00m\n\u001B[1;32m    584\u001B[0m \u001B[38;5;28;01mif\u001B[39;00m li_normalization\u001B[38;5;241m.\u001B[39mlower() \u001B[38;5;241m==\u001B[39m \u001B[38;5;124m'\u001B[39m\u001B[38;5;124mstd\u001B[39m\u001B[38;5;124m'\u001B[39m:\n\u001B[0;32m--> 585\u001B[0m     li \u001B[38;5;241m=\u001B[39m (\u001B[43mBp_vol\u001B[49m\u001B[38;5;241;43m/\u001B[39;49m\u001B[43mvol\u001B[49m)\u001B[38;5;241m/\u001B[39mnumpy\u001B[38;5;241m.\u001B[39mpower(mu0\u001B[38;5;241m*\u001B[39mIp\u001B[38;5;241m/\u001B[39mdl,\u001B[38;5;241m2\u001B[39m)\n\u001B[1;32m    586\u001B[0m \u001B[38;5;28;01melif\u001B[39;00m li_normalization\u001B[38;5;241m.\u001B[39mlower() \u001B[38;5;241m==\u001B[39m \u001B[38;5;124m'\u001B[39m\u001B[38;5;124miter\u001B[39m\u001B[38;5;124m'\u001B[39m:\n\u001B[1;32m    587\u001B[0m     li \u001B[38;5;241m=\u001B[39m \u001B[38;5;241m2.0\u001B[39m\u001B[38;5;241m*\u001B[39mBp_vol\u001B[38;5;241m/\u001B[39m(numpy\u001B[38;5;241m.\u001B[39mpower(mu0\u001B[38;5;241m*\u001B[39mIp,\u001B[38;5;241m2\u001B[39m)\u001B[38;5;241m*\u001B[39m\u001B[38;5;28mself\u001B[39m\u001B[38;5;241m.\u001B[39mo_point[\u001B[38;5;241m0\u001B[39m])\n",
      "\u001B[0;31mZeroDivisionError\u001B[0m: float division by zero"
     ]
    }
   ],
   "execution_count": 23
  }
 ],
 "metadata": {
  "kernelspec": {
   "display_name": "Python 3 (ipykernel)",
   "language": "python",
   "name": "python3"
  },
  "language_info": {
   "codemirror_mode": {
    "name": "ipython",
    "version": 3
   },
   "file_extension": ".py",
   "mimetype": "text/x-python",
   "name": "python",
   "nbconvert_exporter": "python",
   "pygments_lexer": "ipython3",
   "version": "3.10.12"
  }
 },
 "nbformat": 4,
 "nbformat_minor": 5
}
