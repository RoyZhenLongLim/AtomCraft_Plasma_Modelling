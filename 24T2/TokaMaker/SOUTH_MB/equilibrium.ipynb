{
 "cells": [
  {
   "cell_type": "code",
   "metadata": {
    "ExecuteTime": {
     "end_time": "2024-07-20T07:37:12.352646Z",
     "start_time": "2024-07-20T07:37:11.851380Z"
    }
   },
   "source": [
    "import sys\n",
    "import numpy as np\n",
    "import matplotlib.pyplot as plt\n",
    "plt.rcParams['figure.figsize']=(6,6)\n",
    "plt.rcParams['font.weight']='bold'\n",
    "plt.rcParams['axes.labelweight']='bold'\n",
    "plt.rcParams['lines.linewidth']=2\n",
    "plt.rcParams['lines.markeredgewidth']=2\n",
    "\n",
    "sys.path.append('/home/roy/AtomCraft/install_release/python')\n",
    "from OpenFUSIONToolkit.TokaMaker import TokaMaker\n",
    "from OpenFUSIONToolkit.TokaMaker.meshing import load_gs_mesh\n",
    "from OpenFUSIONToolkit.TokaMaker.util import create_power_flux_fun\n",
    "\n",
    "mygs = TokaMaker()"
   ],
   "outputs": [
    {
     "name": "stdout",
     "output_type": "stream",
     "text": [
      "#----------------------------------------------\n",
      "Open FUSION Toolkit Initialized\n",
      "Development branch:   main\n",
      "Revision id:          aba6d8f\n",
      "Parallelization Info:\n",
      "  Not compiled with MPI\n",
      "  # of OpenMP threads =    2\n",
      "Fortran input file    = oftpyin                                                                         \n",
      "XML input file        = none                                                                            \n",
      "Integer Precisions    =    4   8\n",
      "Float Precisions      =    4   8  10\n",
      "Complex Precisions    =    4   8\n",
      "LA backend            = native\n",
      "#----------------------------------------------\n",
      "\n"
     ]
    }
   ],
   "execution_count": 1
  },
  {
   "cell_type": "markdown",
   "metadata": {},
   "source": [
    "## Inverse Equilibrium"
   ]
  },
  {
   "cell_type": "code",
   "metadata": {
    "ExecuteTime": {
     "end_time": "2024-07-20T07:37:12.360580Z",
     "start_time": "2024-07-20T07:37:12.355290Z"
    }
   },
   "source": [
    "mesh_name = 'ATOMCRAFT_mesh1'\n",
    "B0 = 0.1 # T\n",
    "R0 = 0.3 # m\n",
    "Z0 = 0 # m\n",
    "a = 0.1 # m\n",
    "kappa = 1.3 # elongation\n",
    "delta = 0 # triangularity\n",
    "xi = 0.0 # squareness\n",
    "Ip_target = 10e3 # A\n",
    "P0_target = 1e2 # Pa\n",
    "\n",
    "# Define last close flux surface\n",
    "theta = np.linspace(0, 2 * np.pi, 10)\n",
    "R = R0 + a * np.cos(theta + delta * np.sin(theta) - xi * np.sin(2 * theta))\n",
    "Z = Z0 + kappa * a * np.sin(theta + xi * np.sin(2 * theta))\n",
    "LCFS = np.stack([R, Z], axis=1)"
   ],
   "outputs": [],
   "execution_count": 2
  },
  {
   "cell_type": "code",
   "metadata": {
    "jupyter": {
     "is_executing": true
    },
    "ExecuteTime": {
     "start_time": "2024-07-20T07:37:12.362200Z"
    }
   },
   "source": [
    "mygs.reset()\n",
    "\n",
    "mesh_pts ,mesh_lc, mesh_reg, coil_dict, cond_dict = load_gs_mesh(f'meshes/{mesh_name}.h5')\n",
    "mygs.setup_mesh(mesh_pts, mesh_lc, mesh_reg)\n",
    "mygs.setup_regions(cond_dict=cond_dict, coil_dict=coil_dict)\n",
    "mygs.setup(order = 2, F0 = B0 * R0)\n",
    "\n",
    "coil_bounds = np.zeros((mygs.ncoils+1,2), dtype=np.float64)\n",
    "coil_bounds[:,0] = -1e7; coil_bounds[:,1] = 1e7\n",
    "\n",
    "ffp_prof = create_power_flux_fun(40,1.5,2.0)\n",
    "pp_prof = create_power_flux_fun(40,4.0,1.0)\n",
    "\n",
    "mygs.set_coil_bounds(coil_bounds)\n",
    "mygs.set_targets(Ip=Ip_target, pax=P0_target)\n",
    "mygs.set_isoflux(LCFS)\n",
    "mygs.set_profiles(ffp_prof=ffp_prof, pp_prof=pp_prof)\n",
    "\n",
    "mygs.settings.maxits = 100\n",
    "mygs.update_settings()\n",
    "err_flag = mygs.init_psi(R0, Z0, a, kappa, delta)\n",
    "err_flag = mygs.solve()"
   ],
   "outputs": [],
   "execution_count": null
  },
  {
   "cell_type": "code",
   "metadata": {
    "jupyter": {
     "is_executing": true
    }
   },
   "source": [
    "fig, ax = plt.subplots(1,1)\n",
    "mygs.plot_machine(fig,ax,coil_colormap='seismic',coil_symmap=True,coil_scale=1.E-3,coil_clabel=r'$I_C$ [kA]')\n",
    "mygs.plot_psi(fig,ax,xpoint_color=None,vacuum_nlevels=4)\n",
    "mygs.plot_constraints(fig,ax,isoflux_color='tab:red',isoflux_marker='o')"
   ],
   "outputs": [],
   "execution_count": null
  },
  {
   "cell_type": "code",
   "metadata": {
    "jupyter": {
     "is_executing": true
    }
   },
   "source": [
    "mygs.print_info()\n",
    "\n",
    "print()\n",
    "print(\"Coil Currents [kA]:\")\n",
    "coil_currents, _ = mygs.get_coil_currents()\n",
    "for key in mygs.coil_sets:\n",
    "    i = mygs.coil_sets[key]['id']\n",
    "    print('  {0:10} {1:10.2F}'.format(key+\":\",coil_currents[i]/1.E3))"
   ],
   "outputs": [],
   "execution_count": null
  },
  {
   "cell_type": "markdown",
   "metadata": {},
   "source": [
    "## Forward Equilibrium"
   ]
  },
  {
   "cell_type": "code",
   "metadata": {
    "jupyter": {
     "is_executing": true
    }
   },
   "source": [
    "mygs.set_isoflux(None)\n",
    "mygs.set_coil_currents(coil_currents)\n",
    "\n",
    "mygs.set_targets(Ip=8e3) # change plasma current\n",
    "\n",
    "err_flag = mygs.solve()"
   ],
   "outputs": [],
   "execution_count": null
  },
  {
   "cell_type": "code",
   "metadata": {
    "jupyter": {
     "is_executing": true
    }
   },
   "source": [
    "fig, ax = plt.subplots(1,1)\n",
    "mygs.plot_machine(fig,ax,coil_colormap='seismic',coil_symmap=True,coil_scale=1.E-3,coil_clabel=r'$I_C$ [kA]')\n",
    "mygs.plot_psi(fig,ax,xpoint_color=None,vacuum_nlevels=4)\n",
    "\n",
    "mygs.print_info()"
   ],
   "outputs": [],
   "execution_count": null
  },
  {
   "cell_type": "code",
   "metadata": {
    "jupyter": {
     "is_executing": true
    }
   },
   "source": [],
   "outputs": [],
   "execution_count": null
  }
 ],
 "metadata": {
  "kernelspec": {
   "display_name": "base",
   "language": "python",
   "name": "python3"
  },
  "language_info": {
   "codemirror_mode": {
    "name": "ipython",
    "version": 3
   },
   "file_extension": ".py",
   "mimetype": "text/x-python",
   "name": "python",
   "nbconvert_exporter": "python",
   "pygments_lexer": "ipython3",
   "version": "3.12.3"
  }
 },
 "nbformat": 4,
 "nbformat_minor": 2
}
