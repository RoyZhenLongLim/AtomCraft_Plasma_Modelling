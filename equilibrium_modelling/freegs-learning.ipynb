{
 "cells": [
  {
   "cell_type": "code",
   "execution_count": 1,
   "id": "initial_id",
   "metadata": {
    "collapsed": true,
    "ExecuteTime": {
     "end_time": "2024-03-17T07:56:51.656262Z",
     "start_time": "2024-03-17T07:56:50.970853Z"
    }
   },
   "outputs": [],
   "source": [
    "import freegs"
   ]
  },
  {
   "cell_type": "code",
   "outputs": [],
   "source": [
    "??freegs.jtor"
   ],
   "metadata": {
    "collapsed": false,
    "ExecuteTime": {
     "end_time": "2024-03-17T07:56:58.251567Z",
     "start_time": "2024-03-17T07:56:58.183569Z"
    }
   },
   "id": "76b1eceb51e67bb1",
   "execution_count": 2
  }
 ],
 "metadata": {
  "kernelspec": {
   "display_name": "Python 3",
   "language": "python",
   "name": "python3"
  },
  "language_info": {
   "codemirror_mode": {
    "name": "ipython",
    "version": 2
   },
   "file_extension": ".py",
   "mimetype": "text/x-python",
   "name": "python",
   "nbconvert_exporter": "python",
   "pygments_lexer": "ipython2",
   "version": "2.7.6"
  }
 },
 "nbformat": 4,
 "nbformat_minor": 5
}
