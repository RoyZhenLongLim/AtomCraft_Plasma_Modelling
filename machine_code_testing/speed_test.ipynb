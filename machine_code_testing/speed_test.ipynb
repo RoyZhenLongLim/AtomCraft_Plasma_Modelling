{
 "cells": [
  {
   "cell_type": "markdown",
   "source": [
    "# Numba"
   ],
   "metadata": {
    "collapsed": false
   },
   "id": "77d5af27c5cc3352"
  },
  {
   "cell_type": "code",
   "outputs": [
    {
     "name": "stdout",
     "output_type": "stream",
     "text": [
      "Execution time: 659273 microseconds\n"
     ]
    }
   ],
   "source": [
    "import numba\n",
    "import time\n",
    "\n",
    "@numba.jit\n",
    "def print_numbers():\n",
    "    l = []\n",
    "    for i in range(100000):\n",
    "        l.append(i ** 2)\n",
    "\n",
    "def time_function(func):\n",
    "    start = time.time()\n",
    "    func()\n",
    "    end = time.time()\n",
    "    print(f\"Execution time: {(end - start) * 1e6:.0f} microseconds\")\n",
    "\n",
    "time_function(print_numbers)"
   ],
   "metadata": {
    "collapsed": false,
    "ExecuteTime": {
     "end_time": "2024-03-08T00:33:27.690239Z",
     "start_time": "2024-03-08T00:33:26.715512Z"
    }
   },
   "id": "28dc1352d1286fce",
   "execution_count": 16
  },
  {
   "cell_type": "code",
   "outputs": [],
   "source": [
    "code = \"\"\"\n",
    "import numba\n",
    "import time\n",
    "\n",
    "@numba.jit\n",
    "def print_numbers():\n",
    "    l = []\n",
    "    for i in range(100000):\n",
    "        l.append(i ** 2)\n",
    "\n",
    "def time_function(func):\n",
    "    start = time.time()\n",
    "    func()\n",
    "    end = time.time()\n",
    "    print(f\"Execution time: {(end - start) * 1e6:.0f} microseconds\")\n",
    "\n",
    "time_function(print_numbers)\n",
    "\"\"\""
   ],
   "metadata": {
    "collapsed": false,
    "ExecuteTime": {
     "end_time": "2024-03-08T01:01:06.469900Z",
     "start_time": "2024-03-08T01:01:06.466313Z"
    }
   },
   "id": "75e663c9e618d0ec",
   "execution_count": 27
  },
  {
   "cell_type": "code",
   "outputs": [
    {
     "name": "stdout",
     "output_type": "stream",
     "text": [
      "Execution time: 100480 microseconds\n"
     ]
    }
   ],
   "source": [
    "bytecode = compile(code, \"<string>\", \"exec\")\n",
    "exec(bytecode)"
   ],
   "metadata": {
    "collapsed": false,
    "ExecuteTime": {
     "end_time": "2024-03-08T01:01:07.396470Z",
     "start_time": "2024-03-08T01:01:07.292548Z"
    }
   },
   "id": "ae8977896ccfa21c",
   "execution_count": 28
  },
  {
   "cell_type": "code",
   "outputs": [],
   "source": [
    "with open(\"script.pyz\", \"wb\") as f:\n",
    "    f.write(bytecode.co_code)"
   ],
   "metadata": {
    "collapsed": false,
    "ExecuteTime": {
     "end_time": "2024-03-08T01:01:08.461085Z",
     "start_time": "2024-03-08T01:01:08.457212Z"
    }
   },
   "id": "3074ec9d460c332b",
   "execution_count": 29
  },
  {
   "cell_type": "markdown",
   "source": [
    "# C++ Code"
   ],
   "metadata": {
    "collapsed": false
   },
   "id": "c2ce0461fff2d70e"
  },
  {
   "cell_type": "code",
   "outputs": [
    {
     "name": "stdout",
     "output_type": "stream",
     "text": [
      "Elapsed time: 3954 microseconds\n"
     ]
    },
    {
     "data": {
      "text/plain": "CompletedProcess(args=['./speed_test_cpp'], returncode=0)"
     },
     "execution_count": 39,
     "metadata": {},
     "output_type": "execute_result"
    }
   ],
   "source": [
    "import subprocess\n",
    "\n",
    "# Compile the C++ code\n",
    "subprocess.run([\"g++\", \"speed_test.cpp\", \"-o\", \"speed_test_cpp\"])\n",
    "\n",
    "# Run the compiled executable\n",
    "subprocess.run([\"./speed_test_cpp\"])"
   ],
   "metadata": {
    "collapsed": false,
    "ExecuteTime": {
     "end_time": "2024-03-08T01:10:26.463805Z",
     "start_time": "2024-03-08T01:10:26.061697Z"
    }
   },
   "id": "37837512d1f57787",
   "execution_count": 39
  },
  {
   "cell_type": "markdown",
   "source": [
    "Verdict:\n",
    "C++ is significantly faster, even when we use Numba's JIT compilation feature.\n",
    "To determine the correct use case, we would need to evaluate how fast the function must run to give a valid reading."
   ],
   "metadata": {
    "collapsed": false
   },
   "id": "a43897075ad0728e"
  }
 ],
 "metadata": {
  "kernelspec": {
   "display_name": "Python 3",
   "language": "python",
   "name": "python3"
  },
  "language_info": {
   "codemirror_mode": {
    "name": "ipython",
    "version": 2
   },
   "file_extension": ".py",
   "mimetype": "text/x-python",
   "name": "python",
   "nbconvert_exporter": "python",
   "pygments_lexer": "ipython2",
   "version": "2.7.6"
  }
 },
 "nbformat": 4,
 "nbformat_minor": 5
}
