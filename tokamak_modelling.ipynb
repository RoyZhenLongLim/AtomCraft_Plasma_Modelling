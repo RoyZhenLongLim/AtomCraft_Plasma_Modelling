{
 "cells": [
  {
   "cell_type": "code",
   "execution_count": 65,
   "id": "initial_id",
   "metadata": {
    "collapsed": true,
    "ExecuteTime": {
     "end_time": "2024-02-25T01:44:48.115657Z",
     "start_time": "2024-02-25T01:44:48.112184Z"
    }
   },
   "outputs": [],
   "source": [
    "import freegs\n",
    "from freegs import solve, control\n",
    "from freegs.jtor import ConstrainPaxisIp\n",
    "from freegs.machine import Coil, Solenoid\n",
    "from freegs.equilibrium import Equilibrium"
   ]
  },
  {
   "cell_type": "code",
   "outputs": [],
   "source": [
    "tokamak = freegs.machine.TestTokamak()"
   ],
   "metadata": {
    "collapsed": false,
    "ExecuteTime": {
     "end_time": "2024-02-25T01:43:55.208577Z",
     "start_time": "2024-02-25T01:43:55.201606Z"
    }
   },
   "id": "2f9e1995ad231344",
   "execution_count": 51
  },
  {
   "cell_type": "code",
   "outputs": [],
   "source": [
    "toroidal_coils = [\n",
    "    \n",
    "]"
   ],
   "metadata": {
    "collapsed": false,
    "ExecuteTime": {
     "end_time": "2024-02-25T01:47:12.988366Z",
     "start_time": "2024-02-25T01:47:12.984649Z"
    }
   },
   "id": "a90cf0aa2555ff63",
   "execution_count": 78
  },
  {
   "cell_type": "code",
   "outputs": [],
   "source": [
    "poloidal_coils = [\n",
    "    ('P1U', Coil(0.50738376, 0.39384023, turns=4)),\n",
    "    ('P2U', Coil(0.62576723, 0.1996288, turns=4)),\n",
    "    ('P1L', Coil(0.50738376, -0.39384023, turns=4)),\n",
    "    ('P2L', Coil(0.62576723, -0.1996288, turns=4))\n",
    "]"
   ],
   "metadata": {
    "collapsed": false,
    "ExecuteTime": {
     "end_time": "2024-02-25T01:47:13.808494Z",
     "start_time": "2024-02-25T01:47:13.801691Z"
    }
   },
   "id": "f243656527c2a24e",
   "execution_count": 79
  },
  {
   "cell_type": "code",
   "outputs": [],
   "source": [
    "central_solenoid = [('C', Solenoid(0.06, 0, 0.94, 104))]"
   ],
   "metadata": {
    "collapsed": false,
    "ExecuteTime": {
     "end_time": "2024-02-25T01:47:14.229221Z",
     "start_time": "2024-02-25T01:47:14.226265Z"
    }
   },
   "id": "120cb13abc662562",
   "execution_count": 80
  },
  {
   "cell_type": "code",
   "outputs": [],
   "source": [
    "walls = []"
   ],
   "metadata": {
    "collapsed": false,
    "ExecuteTime": {
     "end_time": "2024-02-25T01:47:14.687737Z",
     "start_time": "2024-02-25T01:47:14.683865Z"
    }
   },
   "id": "be3c9f438ca96464",
   "execution_count": 81
  },
  {
   "cell_type": "code",
   "outputs": [],
   "source": [
    "tokamak = freegs.machine.Machine(poloidal_coils + central_solenoid) "
   ],
   "metadata": {
    "collapsed": false,
    "ExecuteTime": {
     "end_time": "2024-02-25T01:47:31.715962Z",
     "start_time": "2024-02-25T01:47:31.711821Z"
    }
   },
   "id": "449826b2a630f472",
   "execution_count": 84
  },
  {
   "cell_type": "code",
   "outputs": [],
   "source": [
    "# TODO: Figure out these parameters\n",
    "eq = Equilibrium(tokamak=tokamak,\n",
    "                 Rmin=0.1, Rmax=2.0,    # Radial domain\n",
    "                 Zmin=-2.0, Zmax=2.0,   # Height range\n",
    "                 nx=65, ny=65 # Number of grid points\n",
    ")        "
   ],
   "metadata": {
    "collapsed": false,
    "ExecuteTime": {
     "end_time": "2024-02-25T01:47:32.785578Z",
     "start_time": "2024-02-25T01:47:32.384662Z"
    }
   },
   "id": "24314b7fd9554a02",
   "execution_count": 85
  },
  {
   "cell_type": "code",
   "outputs": [],
   "source": [
    "# TODO: Figure out these parameters\n",
    "profiles = ConstrainPaxisIp(eq,  # Equilibrium\n",
    "                            3e3, # Plasma pressure on axis [Pascals]\n",
    "                            7e5, # Plasma current [Amps]\n",
    "                            0.4) # vacuum f = R*Bt"
   ],
   "metadata": {
    "collapsed": false,
    "ExecuteTime": {
     "end_time": "2024-02-25T01:47:33.762215Z",
     "start_time": "2024-02-25T01:47:33.758271Z"
    }
   },
   "id": "b74d1fe354025025",
   "execution_count": 86
  },
  {
   "cell_type": "code",
   "outputs": [],
   "source": [
    "# TODO: Figure out these parameters\n",
    "xpoints = [(0.7, -1.1),   # (R,Z) locations of X-points\n",
    "           (0.7, 1.1)]\n",
    "\n",
    "# Contstrain these pairs of (R,Z, R,Z) locations to have the same poloidal flux\n",
    "# This is needed for radial and vertical position control of the plasma.\n",
    "isoflux = [\n",
    "    (0.7,-1.1, 1.45, 0.0)   # Lower X-point, Outboard midplane\n",
    "    ,(0.7,1.1, 1.45, 0.0)   # Upper X-point, Outboard midplane\n",
    "]\n",
    "\n",
    "constrain = control.constrain(xpoints=xpoints, gamma=1e-12, isoflux=isoflux)"
   ],
   "metadata": {
    "collapsed": false,
    "ExecuteTime": {
     "end_time": "2024-02-25T01:48:28.982814Z",
     "start_time": "2024-02-25T01:48:28.979017Z"
    }
   },
   "id": "2f5d73b629210fd0",
   "execution_count": 89
  },
  {
   "cell_type": "code",
   "outputs": [
    {
     "name": "stdout",
     "output_type": "stream",
     "text": [
      "Warning: No O points found\n",
      "Warning: No O points found\n",
      "Warning: No O points found\n"
     ]
    },
    {
     "ename": "ValueError",
     "evalue": "No O-points found!",
     "output_type": "error",
     "traceback": [
      "\u001B[0;31m---------------------------------------------------------------------------\u001B[0m",
      "\u001B[0;31mValueError\u001B[0m                                Traceback (most recent call last)",
      "Cell \u001B[0;32mIn[88], line 1\u001B[0m\n\u001B[0;32m----> 1\u001B[0m \u001B[43msolve\u001B[49m\u001B[43m(\u001B[49m\n\u001B[1;32m      2\u001B[0m \u001B[43m    \u001B[49m\u001B[43meq\u001B[49m\u001B[43m,\u001B[49m\n\u001B[1;32m      3\u001B[0m \u001B[43m    \u001B[49m\u001B[43mprofiles\u001B[49m\u001B[43m,\u001B[49m\n\u001B[1;32m      4\u001B[0m \u001B[43m    \u001B[49m\u001B[43mconstrain\u001B[49m\u001B[43m,\u001B[49m\n\u001B[1;32m      5\u001B[0m \u001B[43m    \u001B[49m\u001B[43mpsi_bndry\u001B[49m\u001B[38;5;241;43m=\u001B[39;49m\u001B[38;5;241;43m0.0\u001B[39;49m\n\u001B[1;32m      6\u001B[0m \u001B[43m)\u001B[49m\n",
      "File \u001B[0;32m~/.local/lib/python3.10/site-packages/freegs/picard.py:148\u001B[0m, in \u001B[0;36msolve\u001B[0;34m(eq, profiles, constrain, rtol, atol, blend, show, axis, pause, psi_bndry, maxits, convergenceInfo, check_limited, wait_for_limited, limit_it)\u001B[0m\n\u001B[1;32m    143\u001B[0m \u001B[38;5;28;01melse\u001B[39;00m:\n\u001B[1;32m    144\u001B[0m \n\u001B[1;32m    145\u001B[0m     \u001B[38;5;66;03m# Either the user does not wish to check for a limited plasma,\u001B[39;00m\n\u001B[1;32m    146\u001B[0m     \u001B[38;5;66;03m# or not enough iterations have passed yet.\u001B[39;00m\n\u001B[1;32m    147\u001B[0m     eq\u001B[38;5;241m.\u001B[39mcheck_limited \u001B[38;5;241m=\u001B[39m \u001B[38;5;28;01mFalse\u001B[39;00m\n\u001B[0;32m--> 148\u001B[0m     \u001B[43meq\u001B[49m\u001B[38;5;241;43m.\u001B[39;49m\u001B[43msolve\u001B[49m\u001B[43m(\u001B[49m\u001B[43mprofiles\u001B[49m\u001B[43m,\u001B[49m\u001B[43m \u001B[49m\u001B[43mpsi\u001B[49m\u001B[38;5;241;43m=\u001B[39;49m\u001B[43mpsi\u001B[49m\u001B[43m,\u001B[49m\u001B[43m \u001B[49m\u001B[43mpsi_bndry\u001B[49m\u001B[38;5;241;43m=\u001B[39;49m\u001B[43mpsi_bndry\u001B[49m\u001B[43m)\u001B[49m\n\u001B[1;32m    150\u001B[0m \u001B[38;5;66;03m# Keep track of whether or not the plasma has at all been limited.\u001B[39;00m\n\u001B[1;32m    151\u001B[0m \u001B[38;5;28;01mif\u001B[39;00m eq\u001B[38;5;241m.\u001B[39mis_limited:\n",
      "File \u001B[0;32m~/.local/lib/python3.10/site-packages/freegs/equilibrium.py:451\u001B[0m, in \u001B[0;36mEquilibrium.solve\u001B[0;34m(self, profiles, Jtor, psi, psi_bndry)\u001B[0m\n\u001B[1;32m    449\u001B[0m     \u001B[38;5;28;01mif\u001B[39;00m psi \u001B[38;5;129;01mis\u001B[39;00m \u001B[38;5;28;01mNone\u001B[39;00m:\n\u001B[1;32m    450\u001B[0m         psi \u001B[38;5;241m=\u001B[39m \u001B[38;5;28mself\u001B[39m\u001B[38;5;241m.\u001B[39mpsi()\n\u001B[0;32m--> 451\u001B[0m     Jtor \u001B[38;5;241m=\u001B[39m \u001B[43mprofiles\u001B[49m\u001B[38;5;241;43m.\u001B[39;49m\u001B[43mJtor\u001B[49m\u001B[43m(\u001B[49m\u001B[38;5;28;43mself\u001B[39;49m\u001B[38;5;241;43m.\u001B[39;49m\u001B[43mR\u001B[49m\u001B[43m,\u001B[49m\u001B[43m \u001B[49m\u001B[38;5;28;43mself\u001B[39;49m\u001B[38;5;241;43m.\u001B[39;49m\u001B[43mZ\u001B[49m\u001B[43m,\u001B[49m\u001B[43m \u001B[49m\u001B[43mpsi\u001B[49m\u001B[43m,\u001B[49m\u001B[43m \u001B[49m\u001B[43mpsi_bndry\u001B[49m\u001B[38;5;241;43m=\u001B[39;49m\u001B[43mpsi_bndry\u001B[49m\u001B[43m)\u001B[49m\n\u001B[1;32m    453\u001B[0m \u001B[38;5;66;03m# Set plasma boundary\u001B[39;00m\n\u001B[1;32m    454\u001B[0m \u001B[38;5;66;03m# Note that the Equilibrium is passed to the boundary function\u001B[39;00m\n\u001B[1;32m    455\u001B[0m \u001B[38;5;66;03m# since the boundary may need to run the G-S solver (von Hagenow's method)\u001B[39;00m\n\u001B[1;32m    456\u001B[0m \u001B[38;5;28mself\u001B[39m\u001B[38;5;241m.\u001B[39m_applyBoundary(\u001B[38;5;28mself\u001B[39m, Jtor, \u001B[38;5;28mself\u001B[39m\u001B[38;5;241m.\u001B[39mplasma_psi)\n",
      "File \u001B[0;32m~/.local/lib/python3.10/site-packages/freegs/jtor.py:348\u001B[0m, in \u001B[0;36mConstrainPaxisIp.Jtor\u001B[0;34m(self, R, Z, psi, psi_bndry)\u001B[0m\n\u001B[1;32m    346\u001B[0m opt, xpt \u001B[38;5;241m=\u001B[39m critical\u001B[38;5;241m.\u001B[39mfind_critical(R, Z, psi)\n\u001B[1;32m    347\u001B[0m \u001B[38;5;28;01mif\u001B[39;00m \u001B[38;5;129;01mnot\u001B[39;00m opt:\n\u001B[0;32m--> 348\u001B[0m     \u001B[38;5;28;01mraise\u001B[39;00m \u001B[38;5;167;01mValueError\u001B[39;00m(\u001B[38;5;124m\"\u001B[39m\u001B[38;5;124mNo O-points found!\u001B[39m\u001B[38;5;124m\"\u001B[39m)\n\u001B[1;32m    349\u001B[0m psi_axis \u001B[38;5;241m=\u001B[39m opt[\u001B[38;5;241m0\u001B[39m][\u001B[38;5;241m2\u001B[39m]\n\u001B[1;32m    351\u001B[0m \u001B[38;5;28;01mif\u001B[39;00m psi_bndry \u001B[38;5;129;01mis\u001B[39;00m \u001B[38;5;129;01mnot\u001B[39;00m \u001B[38;5;28;01mNone\u001B[39;00m:\n",
      "\u001B[0;31mValueError\u001B[0m: No O-points found!"
     ]
    }
   ],
   "source": [
    "solve(\n",
    "    eq,\n",
    "    profiles,\n",
    "    constrain,\n",
    "    psi_bndry=0.0\n",
    ")"
   ],
   "metadata": {
    "collapsed": false,
    "ExecuteTime": {
     "end_time": "2024-02-25T01:47:40.742081Z",
     "start_time": "2024-02-25T01:47:35.265190Z"
    }
   },
   "id": "4487afe16f1ed7f1",
   "execution_count": 88
  }
 ],
 "metadata": {
  "kernelspec": {
   "display_name": "Python 3",
   "language": "python",
   "name": "python3"
  },
  "language_info": {
   "codemirror_mode": {
    "name": "ipython",
    "version": 2
   },
   "file_extension": ".py",
   "mimetype": "text/x-python",
   "name": "python",
   "nbconvert_exporter": "python",
   "pygments_lexer": "ipython2",
   "version": "2.7.6"
  }
 },
 "nbformat": 4,
 "nbformat_minor": 5
}
